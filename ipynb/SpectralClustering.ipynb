{
 "cells": [
  {
   "cell_type": "code",
   "execution_count": 4,
   "id": "6a2ecf54",
   "metadata": {},
   "outputs": [],
   "source": [
    "import numpy as np\n",
    "from scipy.spatial.distance import pdist, squareform\n",
    "import scipy.linalg\n",
    "\n",
    "def inverse_sqrt(M):\n",
    "    return scipy.linalg.sqrtm(scipy.linalg.inv(M))\n",
    "\n",
    "def normalize(L, D):\n",
    "    D12 = inverse_sqrt(D)\n",
    "    return np.dot(np.dot(D12, L), D12)\n",
    "\n",
    "def gen_affinity_matrix(data):\n",
    "    \"\"\"\n",
    "    Returns an affinity matrix from a set of datapoints. Affinity is computed as exp(-dist)\n",
    "    Input:\n",
    "    data (ndarray, float): a set of datapoints\n",
    "    Output:\n",
    "    affinity (ndarray, float): an affinity matrix for the datapoints\n",
    "    \"\"\" \n",
    "    distances = squareform(pdist(data, 'sqeuclidean'))\n",
    "    \n",
    "    # First look for a threshold distance that \n",
    "    # 1. large enough that so that we can eliminate edges\n",
    "    # 2. but still maintain connectivity of all the vertices\n",
    "    # Then, set every distance d above a threshold to infinity so that exp(-d)=0\n",
    "    \n",
    "    # Find threshold\n",
    "    zero = np.where(distances == 0) # Cannot let zero distances interfere with our search\n",
    "    distances[zero] = np.full(distances.shape, np.NaN)[zero] # set zero to NaN\n",
    "    threshold = np.nanmax(np.nanmin(distances, axis=0)) # threshold for connectivity\n",
    "    distances[zero] = np.zeros(distances.shape)[zero] # restore zero\n",
    "    \n",
    "    # Compute affinity matrix\n",
    "    set2inf = np.where(distances > threshold)\n",
    "    affinity = np.exp(-distances)\n",
    "    affinity[set2inf] = np.zeros(distances.shape)[set2inf]\n",
    "    return affinity"
   ]
  },
  {
   "cell_type": "code",
   "execution_count": 7,
   "id": "3a9feb4b",
   "metadata": {},
   "outputs": [
    {
     "name": "stdout",
     "output_type": "stream",
     "text": [
      "(100, 98)\n"
     ]
    },
    {
     "data": {
      "image/png": "[encoded data removed]",
      "text/plain": [
       "<Figure size 1080x216 with 1 Axes>"
      ]
     },
     "metadata": {
      "needs_background": "light"
     },
     "output_type": "display_data"
    }
   ],
   "source": [
    "import matplotlib.pyplot as plt\n",
    "\n",
    "data = np.random.random((100, 50))\n",
    "\n",
    "W = gen_affinity_matrix(data)\n",
    "\n",
    "degree = W.sum(axis=0)\n",
    "D = np.zeros(W.shape)\n",
    "row, col = np.diag_indices(D.shape[0]) \n",
    "D[row, col] = degree\n",
    "L = D - W\n",
    "nL = normalize(L, D)\n",
    "\n",
    "eigenvalues, eigenvectors = np.linalg.eig(nL)\n",
    "\n",
    "idx = eigenvalues.argsort()[::-1]\n",
    "eigenvalues = eigenvalues[idx]\n",
    "eigenvectors = eigenvectors[:,idx]\n",
    "embedding = eigenvectors[:,:-2]\n",
    "\n",
    "print(embedding.shape)\n",
    "\n",
    "# Show the largest two eigenvectors\n",
    "plt.figure(figsize=(15, 3))\n",
    "plt.scatter(embedding[:,0], embedding[:,1])\n",
    "plt.show()"
   ]
  },
  {
   "cell_type": "code",
   "execution_count": null,
   "id": "3386d132",
   "metadata": {},
   "outputs": [],
   "source": []
  }
 ],
 "metadata": {
  "kernelspec": {
   "display_name": "Python 3",
   "language": "python",
   "name": "python3"
  },
  "language_info": {
   "codemirror_mode": {
    "name": "ipython",
    "version": 3
   },
   "file_extension": ".py",
   "mimetype": "text/x-python",
   "name": "python",
   "nbconvert_exporter": "python",
   "pygments_lexer": "ipython3",
   "version": "3.7.9"
  },
  "varInspector": {
   "cols": {
    "lenName": 16,
    "lenType": 16,
    "lenVar": 40
   },
   "kernels_config": {
    "python": {
     "delete_cmd_postfix": "",
     "delete_cmd_prefix": "del ",
     "library": "var_list.py",
     "varRefreshCmd": "print(var_dic_list())"
    },
    "r": {
     "delete_cmd_postfix": ") ",
     "delete_cmd_prefix": "rm(",
     "library": "var_list.r",
     "varRefreshCmd": "cat(var_dic_list()) "
    }
   },
   "types_to_exclude": [
    "module",
    "function",
    "builtin_function_or_method",
    "instance",
    "_Feature"
   ],
   "window_display": false
  }
 },
 "nbformat": 4,
 "nbformat_minor": 5
}
