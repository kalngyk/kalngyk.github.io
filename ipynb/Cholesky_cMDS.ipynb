{
 "cells": [
  {
   "cell_type": "raw",
   "metadata": {
    "colab": {
     "base_uri": "https://localhost:8080/"
    },
    "id": "Slg5yA1KJ4y7",
    "outputId": "0012f716-3816-490e-c240-73f3a9e32354"
   },
   "source": [
    "!pip install git+git://github.com/hackl/pyre.git"
   ]
  },
  {
   "cell_type": "code",
   "execution_count": 1,
   "metadata": {
    "id": "YymUOhWqIMax"
   },
   "outputs": [],
   "source": [
    "import numpy as np\n",
    "np.set_printoptions(formatter={'float_kind':\"{:.3f}\".format})\n",
    "\n",
    "# From https://hackl.science/pyre/_modules/pyre/cholesky.html\n",
    "\n",
    "def computeCholeskyDecomposition(self):\n",
    "    Ro = self.model.getModifiedCorrelation()\n",
    "    Lo, ierr = CholeskyDecomposition(Ro)\n",
    "    if  ierr > 0:\n",
    "        print('Error: Cholesky decomposition', ierr)\n",
    "    self.model.setLowerTriangularMatrix(Lo)\n",
    "    iLo = np.linalg.inv(Lo)\n",
    "    self.model.setInvLowerTriangularMatrix(iLo)\n",
    "\n",
    "def CholeskyDecomposition(A):\n",
    "    n,n = A.shape\n",
    "    ierr = 0\n",
    "    for k in range(n):\n",
    "        if A[k][k] <= 0:\n",
    "            ierr = k\n",
    "            print('CholeskyDecomposition Error: Matrix must be positive definite\\n')\n",
    "            break\n",
    "        A[k][k] = np.sqrt(A[k][k])\n",
    "        indx = list(range(k+1,n))\n",
    "        for i in indx:\n",
    "            A[i][k] = A[i][k] * A[k][k]**(-1)\n",
    "        for j in range(k+1,n):\n",
    "            indx = list(range(j,n))\n",
    "            for i in indx:\n",
    "                A[i][j] = A[i][j] - A[i][k]*A[j][k]\n",
    "    Lo = np.tril(A)\n",
    "    return Lo, ierr"
   ]
  },
  {
   "cell_type": "code",
   "execution_count": 2,
   "metadata": {
    "id": "QjnbTvpXK2Ys"
   },
   "outputs": [],
   "source": [
    "# Set off infinitesimally small values in M to 0\n",
    "# Useful when there are inconsequential complex parts in M\n",
    "def remove_small_values(M):\n",
    "    M1 = np.array(M, dtype='float')\n",
    "    M2 = np.array(M, dtype='complex_')\n",
    "    has_complex = False\n",
    "    for i in range(M.shape[0]):\n",
    "        for j in range(M.shape[1]):\n",
    "            r, x = (M[i,j].real, M[i,j].imag)\n",
    "            if r < 0.0001:\n",
    "                r = 0\n",
    "            if x < 0.0001:\n",
    "                x = 0\n",
    "            else:\n",
    "                has_complex = True\n",
    "            M2[i,j] = r + x*1j\n",
    "            M1[i,j] = r\n",
    "    if has_complex:\n",
    "        return M2\n",
    "    return M1"
   ]
  },
  {
   "cell_type": "code",
   "execution_count": 12,
   "metadata": {},
   "outputs": [
    {
     "data": {
      "text/plain": [
       "array([[16.490, 1.347, 5.061, -5.796, -8.082, -6.367, -2.653],\n",
       "       [1.347, 3.204, -0.082, -3.939, 5.776, -1.510, -4.796],\n",
       "       [5.061, -0.082, 1.633, -1.224, -3.510, -1.796, -0.082],\n",
       "       [-5.796, -3.939, -1.224, 5.918, -4.367, 3.347, 6.061],\n",
       "       [-8.082, 5.776, -3.510, -4.367, 17.347, 1.061, -8.224],\n",
       "       [-6.367, -1.510, -1.796, 3.347, 1.061, 2.776, 2.490],\n",
       "       [-2.653, -4.796, -0.082, 6.061, -8.224, 2.490, 7.204]])"
      ]
     },
     "execution_count": 12,
     "metadata": {},
     "output_type": "execute_result"
    }
   ],
   "source": [
    "#X = np.array([[1.,0.],[0.,1.],[1.,1.],[0.,0.]])\n",
    "#X = np.array([[1.,0.],[5.,1.],[3.,2.],[4.,5.],[8.,1.]])\n",
    "X = np.array([[1.,0.],[5.,1.],[3.,2.],[4.,5.],[8.,1.],[5.,4.],[3.,5.]])\n",
    "\n",
    "Xc = X - np.outer(np.ones(X.shape[0]), np.mean(X, axis=0))\n",
    "\n",
    "B = np.dot(Xc, Xc.T)\n",
    "B"
   ]
  },
  {
   "cell_type": "markdown",
   "metadata": {
    "id": "xpeJ-FH0pAx-"
   },
   "source": [
    "### Cholesky decomposition on gramian directly from centered data"
   ]
  },
  {
   "cell_type": "code",
   "execution_count": 13,
   "metadata": {
    "colab": {
     "base_uri": "https://localhost:8080/",
     "height": 513
    },
    "id": "jb_G2hRWJEdP",
    "outputId": "1a54cd72-34a8-43d1-beee-28a3a724053f"
   },
   "outputs": [
    {
     "name": "stdout",
     "output_type": "stream",
     "text": [
      "Error: in Choleski decomposition - Matrix must be positive definite\n",
      "\n",
      "B=\n",
      " [[16.490 1.347 5.061 -5.796 -8.082 -6.367 -2.653]\n",
      " [1.347 3.204 -0.082 -3.939 5.776 -1.510 -4.796]\n",
      " [5.061 -0.082 1.633 -1.224 -3.510 -1.796 -0.082]\n",
      " [-5.796 -3.939 -1.224 5.918 -4.367 3.347 6.061]\n",
      " [-8.082 5.776 -3.510 -4.367 17.347 1.061 -8.224]\n",
      " [-6.367 -1.510 -1.796 3.347 1.061 2.776 2.490]\n",
      " [-2.653 -4.796 -0.082 6.061 -8.224 2.490 7.204]]\n",
      "\n",
      "XX^T=\n",
      " [[16.490 1.347 5.061 -5.796 -8.082 -6.367 -2.653]\n",
      " [1.347 3.204 -0.082 -3.939 5.776 -1.510 -4.796]\n",
      " [5.061 -0.082 1.633 -1.224 -3.510 -1.796 -0.082]\n",
      " [-5.796 -3.939 -1.224 5.918 -4.367 3.347 6.061]\n",
      " [-8.082 5.776 -3.510 -4.367 17.347 1.061 -8.224]\n",
      " [-6.367 -1.510 -1.796 3.347 1.061 2.776 2.490]\n",
      " [-2.653 -4.796 -0.082 6.061 -8.224 2.490 7.204]]\n"
     ]
    }
   ],
   "source": [
    "import pyre\n",
    "\n",
    "C = pyre.cholesky.CholeskyDecomposition(B.copy())\n",
    "vectors = C[0]\n",
    "vector_lengths = np.array([np.linalg.norm(vectors[:,i]) for i in range(vectors.shape[1])])\n",
    "\n",
    "idx = vector_lengths.argsort()[::-1]\n",
    "vectors = vectors[:,idx]\n",
    "\n",
    "# Check if the factorization is correct\n",
    "print(\"B=\\n\", B)\n",
    "print()\n",
    "print(\"XX^T=\\n\", np.dot(vectors, vectors.T))\n",
    "\n",
    "XX1 = vectors[:,:Xc.shape[1]]"
   ]
  },
  {
   "cell_type": "markdown",
   "metadata": {
    "id": "oaqqOhYldUEx"
   },
   "source": [
    "### Eigendecomposition on gramian directly from centered data"
   ]
  },
  {
   "cell_type": "code",
   "execution_count": 14,
   "metadata": {
    "colab": {
     "base_uri": "https://localhost:8080/",
     "height": 534
    },
    "id": "7H6G-g8dc8o5",
    "outputId": "94a29373-494e-47ee-ec4f-aecc0548b9ed"
   },
   "outputs": [
    {
     "name": "stdout",
     "output_type": "stream",
     "text": [
      "B=\n",
      " [[16.490 1.347 5.061 -5.796 -8.082 -6.367 -2.653]\n",
      " [1.347 3.204 -0.082 -3.939 5.776 -1.510 -4.796]\n",
      " [5.061 -0.082 1.633 -1.224 -3.510 -1.796 -0.082]\n",
      " [-5.796 -3.939 -1.224 5.918 -4.367 3.347 6.061]\n",
      " [-8.082 5.776 -3.510 -4.367 17.347 1.061 -8.224]\n",
      " [-6.367 -1.510 -1.796 3.347 1.061 2.776 2.490]\n",
      " [-2.653 -4.796 -0.082 6.061 -8.224 2.490 7.204]]\n",
      "\n",
      "XUX^T=\n",
      " [[16.48979592+0.j  1.34693878+0.j  5.06122449+0.j -5.79591837+0.j\n",
      "  -8.08163265+0.j -6.36734694+0.j -2.65306122+0.j]\n",
      " [ 1.34693878+0.j  3.20408163+0.j -0.08163265+0.j -3.93877551+0.j\n",
      "   5.7755102 +0.j -1.51020408+0.j -4.79591837+0.j]\n",
      " [ 5.06122449+0.j -0.08163265+0.j  1.63265306+0.j -1.2244898 +0.j\n",
      "  -3.51020408+0.j -1.79591837+0.j -0.08163265+0.j]\n",
      " [-5.79591837+0.j -3.93877551+0.j -1.2244898 +0.j  5.91836735+0.j\n",
      "  -4.36734694+0.j  3.34693878+0.j  6.06122449+0.j]\n",
      " [-8.08163265+0.j  5.7755102 +0.j -3.51020408+0.j -4.36734694+0.j\n",
      "  17.34693878+0.j  1.06122449+0.j -8.2244898 +0.j]\n",
      " [-6.36734694+0.j -1.51020408+0.j -1.79591837+0.j  3.34693878+0.j\n",
      "   1.06122449+0.j  2.7755102 +0.j  2.48979592+0.j]\n",
      " [-2.65306122+0.j -4.79591837+0.j -0.08163265+0.j  6.06122449+0.j\n",
      "  -8.2244898 +0.j  2.48979592+0.j  7.20408163+0.j]]\n"
     ]
    },
    {
     "name": "stderr",
     "output_type": "stream",
     "text": [
      "c:\\users\\surface\\miniconda3\\lib\\site-packages\\numpy\\lib\\index_tricks.py:899: ComplexWarning: Casting complex values to real discards the imaginary part\n",
      "  a.flat[:end:step] = val\n"
     ]
    }
   ],
   "source": [
    "eigenvalues, eigenvectors = np.linalg.eig(B.copy())\n",
    "idx = eigenvalues.argsort()[::-1]\n",
    "eigenvalues = eigenvalues[idx]\n",
    "eigenvectors = eigenvectors[:,idx]\n",
    "\n",
    "# Check if the factorization is correct\n",
    "print(\"B=\\n\", B)\n",
    "print()\n",
    "E = np.zeros(eigenvectors.shape)\n",
    "np.fill_diagonal(E, eigenvalues)\n",
    "print(\"XUX^T=\\n\", np.dot(np.dot(eigenvectors, E), eigenvectors.T))\n",
    "\n",
    "Y = np.zeros(eigenvectors.shape)\n",
    "np.fill_diagonal(Y, np.sqrt(eigenvalues))\n",
    "XX2 = np.dot(eigenvectors, Y)"
   ]
  },
  {
   "cell_type": "markdown",
   "metadata": {},
   "source": [
    "### Plot side-by-side"
   ]
  },
  {
   "cell_type": "code",
   "execution_count": 15,
   "metadata": {},
   "outputs": [
    {
     "name": "stderr",
     "output_type": "stream",
     "text": [
      "c:\\users\\surface\\miniconda3\\lib\\site-packages\\numpy\\core\\_asarray.py:171: ComplexWarning: Casting complex values to real discards the imaginary part\n",
      "  return array(a, dtype, copy=False, order=order, subok=True)\n"
     ]
    },
    {
     "data": {
      "image/png": "[encoded data removed]",
      "text/plain": [
       "<Figure size 1080x288 with 3 Axes>"
      ]
     },
     "metadata": {
      "needs_background": "light"
     },
     "output_type": "display_data"
    },
    {
     "name": "stdout",
     "output_type": "stream",
     "text": [
      "[[0.000 4.123 2.828 5.831 7.071 5.657 5.385]\n",
      " [4.123 0.000 2.236 4.123 3.000 3.000 4.472]\n",
      " [2.828 2.236 0.000 3.162 5.099 2.828 3.000]\n",
      " [5.831 4.123 3.162 0.000 5.657 1.414 1.000]\n",
      " [7.071 3.000 5.099 5.657 0.000 4.243 6.403]\n",
      " [5.657 3.000 2.828 1.414 4.243 0.000 2.236]\n",
      " [5.385 4.472 3.000 1.000 6.403 2.236 0.000]]\n",
      "\n",
      "[[0.000 4.123 2.828 5.831 7.071 5.657 5.385]\n",
      " [4.123 0.000 2.236 4.123 3.000 3.000 4.472]\n",
      " [2.828 2.236 0.000 3.162 5.099 2.828 3.000]\n",
      " [5.831 4.123 3.162 0.000 5.657 1.414 1.000]\n",
      " [7.071 3.000 5.099 5.657 0.000 4.243 6.403]\n",
      " [5.657 3.000 2.828 1.414 4.243 0.000 2.236]\n",
      " [5.385 4.472 3.000 1.000 6.403 2.236 0.000]]\n",
      "\n",
      "[[0.000 4.123 2.828 5.831 7.071 5.657 5.385]\n",
      " [4.123 0.000 2.236 4.123 3.000 3.000 4.472]\n",
      " [2.828 2.236 0.000 3.162 5.099 2.828 3.000]\n",
      " [5.831 4.123 3.162 0.000 5.657 1.414 1.000]\n",
      " [7.071 3.000 5.099 5.657 0.000 4.243 6.403]\n",
      " [5.657 3.000 2.828 1.414 4.243 0.000 2.236]\n",
      " [5.385 4.472 3.000 1.000 6.403 2.236 0.000]]\n"
     ]
    },
    {
     "name": "stderr",
     "output_type": "stream",
     "text": [
      "c:\\users\\surface\\miniconda3\\lib\\site-packages\\numpy\\core\\_asarray.py:228: ComplexWarning: Casting complex values to real discards the imaginary part\n",
      "  return array(a, dtype, copy=False, order='C', ndmin=1)\n"
     ]
    }
   ],
   "source": [
    "import matplotlib.pyplot as plt\n",
    "from scipy.spatial.distance import pdist, squareform\n",
    "\n",
    "fig, (ax1, ax2, ax3) = plt.subplots(1, 3, figsize=(15, 4))\n",
    "\n",
    "# Plot side-by-side\n",
    "ax1.scatter(Xc[:,0], Xc[:,1])\n",
    "ax2.scatter(XX1[:,0], XX1[:,1])\n",
    "ax3.scatter(XX2[:,0], XX2[:,1])\n",
    "plt.show()\n",
    "\n",
    "# Recompute pairwise distances from both solutions\n",
    "print(squareform(pdist(Xc)))\n",
    "print()\n",
    "print(squareform(pdist(XX1[:,:2])))\n",
    "print()\n",
    "print(squareform(pdist(XX2[:,:2])))"
   ]
  },
  {
   "cell_type": "markdown",
   "metadata": {},
   "source": [
    "### Gramian from distance matrix "
   ]
  },
  {
   "cell_type": "code",
   "execution_count": 16,
   "metadata": {},
   "outputs": [],
   "source": [
    "D = squareform(pdist(X))\n",
    "\n",
    "# Compute Gramian from D\n",
    "A = -(1/2)*D**2\n",
    "C = np.identity(D.shape[0]) - np.ones((D.shape[0], D.shape[0]))/D.shape[0]\n",
    "B = np.dot(np.dot(C,A),C)"
   ]
  },
  {
   "cell_type": "markdown",
   "metadata": {
    "id": "twn800PGpsAj"
   },
   "source": [
    "### Cholesky factorization on Grammian from distance matrix"
   ]
  },
  {
   "cell_type": "code",
   "execution_count": 17,
   "metadata": {
    "colab": {
     "base_uri": "https://localhost:8080/",
     "height": 550
    },
    "id": "QHi7E1x-pq3d",
    "outputId": "35ee7671-de38-4cc7-b381-8273b5a2ea23"
   },
   "outputs": [
    {
     "name": "stdout",
     "output_type": "stream",
     "text": [
      "CholeskyDecomposition Error: Matrix must be positive definite\n",
      "\n",
      "B=\n",
      " [[16.490 1.347 5.061 -5.796 -8.082 -6.367 -2.653]\n",
      " [1.347 3.204 -0.082 -3.939 5.776 -1.510 -4.796]\n",
      " [5.061 -0.082 1.633 -1.224 -3.510 -1.796 -0.082]\n",
      " [-5.796 -3.939 -1.224 5.918 -4.367 3.347 6.061]\n",
      " [-8.082 5.776 -3.510 -4.367 17.347 1.061 -8.224]\n",
      " [-6.367 -1.510 -1.796 3.347 1.061 2.776 2.490]\n",
      " [-2.653 -4.796 -0.082 6.061 -8.224 2.490 7.204]]\n",
      "\n",
      "XX^T=\n",
      " [[16.490 1.347 5.061 -5.796 -8.082 -6.367 -2.653]\n",
      " [1.347 3.204 -0.082 -3.939 5.776 -1.510 -4.796]\n",
      " [5.061 -0.082 1.633 -1.224 -3.510 -1.796 -0.082]\n",
      " [-5.796 -3.939 -1.224 5.918 -4.367 3.347 6.061]\n",
      " [-8.082 5.776 -3.510 -4.367 17.347 1.061 -8.224]\n",
      " [-6.367 -1.510 -1.796 3.347 1.061 2.776 2.490]\n",
      " [-2.653 -4.796 -0.082 6.061 -8.224 2.490 7.204]]\n"
     ]
    }
   ],
   "source": [
    "C = CholeskyDecomposition(B.copy())\n",
    "vectors = C[0]\n",
    "vector_lengths = np.array([np.linalg.norm(vectors[:,i]) for i in range(vectors.shape[1])])\n",
    "idx = vector_lengths.argsort()[::-1]\n",
    "vectors = vectors[:,idx]\n",
    "\n",
    "# Check if the factorization is correct\n",
    "print(\"B=\\n\", B)\n",
    "print()\n",
    "print(\"XX^T=\\n\", np.dot(vectors, vectors.T))\n",
    "\n",
    "XX1 = vectors[:,:X.shape[1]]"
   ]
  },
  {
   "cell_type": "markdown",
   "metadata": {
    "id": "XxZM3HVk7G_D"
   },
   "source": [
    "### Eigendecomposition on distance matrix only (MDS)"
   ]
  },
  {
   "cell_type": "code",
   "execution_count": 20,
   "metadata": {
    "colab": {
     "base_uri": "https://localhost:8080/",
     "height": 534
    },
    "id": "C58gqLh97EfK",
    "outputId": "f855409b-e3e7-4e81-ed90-049edd06933a"
   },
   "outputs": [
    {
     "name": "stdout",
     "output_type": "stream",
     "text": [
      "B=\n",
      " [[16.490 1.347 5.061 -5.796 -8.082 -6.367 -2.653]\n",
      " [1.347 3.204 -0.082 -3.939 5.776 -1.510 -4.796]\n",
      " [5.061 -0.082 1.633 -1.224 -3.510 -1.796 -0.082]\n",
      " [-5.796 -3.939 -1.224 5.918 -4.367 3.347 6.061]\n",
      " [-8.082 5.776 -3.510 -4.367 17.347 1.061 -8.224]\n",
      " [-6.367 -1.510 -1.796 3.347 1.061 2.776 2.490]\n",
      " [-2.653 -4.796 -0.082 6.061 -8.224 2.490 7.204]]\n",
      "\n",
      "XUX^T=\n",
      " [[16.490 1.347 5.061 -5.796 -8.082 -6.367 -2.653]\n",
      " [1.347 3.204 -0.082 -3.939 5.776 -1.510 -4.796]\n",
      " [5.061 -0.082 1.633 -1.224 -3.510 -1.796 -0.082]\n",
      " [-5.796 -3.939 -1.224 5.918 -4.367 3.347 6.061]\n",
      " [-8.082 5.776 -3.510 -4.367 17.347 1.061 -8.224]\n",
      " [-6.367 -1.510 -1.796 3.347 1.061 2.776 2.490]\n",
      " [-2.653 -4.796 -0.082 6.061 -8.224 2.490 7.204]]\n"
     ]
    },
    {
     "name": "stderr",
     "output_type": "stream",
     "text": [
      "c:\\users\\surface\\miniconda3\\lib\\site-packages\\ipykernel_launcher.py:14: RuntimeWarning: invalid value encountered in sqrt\n",
      "  \n"
     ]
    }
   ],
   "source": [
    "eigenvalues, eigenvectors = np.linalg.eig(B.copy())\n",
    "idx = eigenvalues.argsort()[::-1]\n",
    "eigenvalues = eigenvalues[idx]\n",
    "eigenvectors = eigenvectors[:,idx]\n",
    "\n",
    "# Check if the factorization is correct\n",
    "print(\"B=\\n\", B)\n",
    "print()\n",
    "E = np.zeros(eigenvectors.shape)\n",
    "np.fill_diagonal(E, eigenvalues)\n",
    "print(\"XUX^T=\\n\", np.dot(np.dot(eigenvectors, E), eigenvectors.T))\n",
    "\n",
    "Y = np.zeros((len(eigenvalues),len(eigenvalues)))\n",
    "np.fill_diagonal(Y, eigenvalues**(0.5))\n",
    "XX2 = np.dot(eigenvectors, Y)"
   ]
  },
  {
   "cell_type": "markdown",
   "metadata": {},
   "source": [
    "### Plot side-by-side"
   ]
  },
  {
   "cell_type": "code",
   "execution_count": 21,
   "metadata": {
    "id": "aDcAWNA-Mb7f"
   },
   "outputs": [
    {
     "data": {
      "image/png": "[encoded data removed]",
      "text/plain": [
       "<Figure size 1080x288 with 3 Axes>"
      ]
     },
     "metadata": {
      "needs_background": "light"
     },
     "output_type": "display_data"
    },
    {
     "name": "stdout",
     "output_type": "stream",
     "text": [
      "[[0.000 4.123 2.828 5.831 7.071 5.657 5.385]\n",
      " [4.123 0.000 2.236 4.123 3.000 3.000 4.472]\n",
      " [2.828 2.236 0.000 3.162 5.099 2.828 3.000]\n",
      " [5.831 4.123 3.162 0.000 5.657 1.414 1.000]\n",
      " [7.071 3.000 5.099 5.657 0.000 4.243 6.403]\n",
      " [5.657 3.000 2.828 1.414 4.243 0.000 2.236]\n",
      " [5.385 4.472 3.000 1.000 6.403 2.236 0.000]]\n",
      "\n",
      "[[0.000 4.123 2.828 5.831 7.071 5.657 5.385]\n",
      " [4.123 0.000 2.236 4.123 3.000 3.000 4.472]\n",
      " [2.828 2.236 0.000 3.162 5.099 2.828 3.000]\n",
      " [5.831 4.123 3.162 0.000 5.657 1.414 1.000]\n",
      " [7.071 3.000 5.099 5.657 0.000 4.243 6.403]\n",
      " [5.657 3.000 2.828 1.414 4.243 0.000 2.236]\n",
      " [5.385 4.472 3.000 1.000 6.403 2.236 0.000]]\n",
      "\n",
      "[[0.000 4.123 2.828 5.831 7.071 5.657 5.385]\n",
      " [4.123 0.000 2.236 4.123 3.000 3.000 4.472]\n",
      " [2.828 2.236 0.000 3.162 5.099 2.828 3.000]\n",
      " [5.831 4.123 3.162 0.000 5.657 1.414 1.000]\n",
      " [7.071 3.000 5.099 5.657 0.000 4.243 6.403]\n",
      " [5.657 3.000 2.828 1.414 4.243 0.000 2.236]\n",
      " [5.385 4.472 3.000 1.000 6.403 2.236 0.000]]\n"
     ]
    }
   ],
   "source": [
    "import matplotlib.pyplot as plt\n",
    "from scipy.spatial.distance import pdist, squareform\n",
    "\n",
    "fig, (ax1, ax2, ax3) = plt.subplots(1, 3, figsize=(15, 4))\n",
    "\n",
    "# Plot side-by-side\n",
    "ax1.scatter(Xc[:,0], Xc[:,1])\n",
    "ax2.scatter(XX1[:,0], XX1[:,1])\n",
    "ax3.scatter(XX2[:,0], XX2[:,1])\n",
    "plt.show()\n",
    "\n",
    "# Recompute pairwise distances from both solutions\n",
    "print(squareform(pdist(Xc)))\n",
    "print()\n",
    "print(squareform(pdist(XX1[:,:2])))\n",
    "print()\n",
    "print(squareform(pdist(XX2[:,:2])))"
   ]
  },
  {
   "cell_type": "code",
   "execution_count": null,
   "metadata": {},
   "outputs": [],
   "source": []
  }
 ],
 "metadata": {
  "colab": {
   "collapsed_sections": [],
   "name": "MDS.ipynb",
   "provenance": []
  },
  "kernelspec": {
   "display_name": "Python 3",
   "language": "python",
   "name": "python3"
  },
  "language_info": {
   "codemirror_mode": {
    "name": "ipython",
    "version": 3
   },
   "file_extension": ".py",
   "mimetype": "text/x-python",
   "name": "python",
   "nbconvert_exporter": "python",
   "pygments_lexer": "ipython3",
   "version": "3.7.9"
  },
  "varInspector": {
   "cols": {
    "lenName": 16,
    "lenType": 16,
    "lenVar": 40
   },
   "kernels_config": {
    "python": {
     "delete_cmd_postfix": "",
     "delete_cmd_prefix": "del ",
     "library": "var_list.py",
     "varRefreshCmd": "print(var_dic_list())"
    },
    "r": {
     "delete_cmd_postfix": ") ",
     "delete_cmd_prefix": "rm(",
     "library": "var_list.r",
     "varRefreshCmd": "cat(var_dic_list()) "
    }
   },
   "types_to_exclude": [
    "module",
    "function",
    "builtin_function_or_method",
    "instance",
    "_Feature"
   ],
   "window_display": false
  }
 },
 "nbformat": 4,
 "nbformat_minor": 1
}
