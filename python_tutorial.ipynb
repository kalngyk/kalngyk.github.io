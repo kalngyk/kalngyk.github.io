{
  "nbformat": 4,
  "nbformat_minor": 0,
  "metadata": {
    "colab": {
      "name": "python_tutorial.ipynb",
      "provenance": [],
      "collapsed_sections": [
        "z3t9FYuNTbaP",
        "_GvUvrQbOOvJ",
        "JySEebjxOOvc",
        "zxIUS5f6OOxD",
        "M7viXmChOOxk",
        "1_uyDXdXOOyE",
        "zNc5Ra4KOOyL",
        "Dc3WeauW0bGE",
        "nosy-jlAOOzi",
        "HtTgCpqxOOzn",
        "84Rj4ukDOOzr",
        "IGk6izvIOOz1",
        "un7gh-yaRAMI",
        "QBmRIkrcMMy1"
      ],
      "include_colab_link": true
    },
    "language_info": {
      "codemirror_mode": {
        "name": "ipython",
        "version": 3
      },
      "file_extension": ".py",
      "mimetype": "text/x-python",
      "name": "python",
      "nbconvert_exporter": "python",
      "pygments_lexer": "ipython3",
      "version": "3.7.2"
    },
    "kernelspec": {
      "display_name": "Python 3",
      "language": "python",
      "name": "python3"
    }
  },
  "cells": [
    {
      "cell_type": "markdown",
      "metadata": {
        "id": "view-in-github",
        "colab_type": "text"
      },
      "source": [
        "<a href=\"https://colab.research.google.com/github/kalngyk/kalngyk.github.io/blob/main/python_tutorial.ipynb\" target=\"_parent\"><img src=\"https://colab.research.google.com/assets/colab-badge.svg\" alt=\"Open In Colab\"/></a>"
      ]
    },
    {
      "cell_type": "markdown",
      "metadata": {
        "id": "hIqzqDr1OOuB"
      },
      "source": [
        "# Python Crash Course\n",
        "\n",
        "*(Compiled from various sources on the internet)*"
      ]
    },
    {
      "cell_type": "markdown",
      "metadata": {
        "id": "ilALUb-FPJZw"
      },
      "source": [
        "\n",
        "\n",
        "---\n",
        "\n",
        "\n",
        "## Quick note about Jupyter on Colab\n",
        "\n",
        "This document is a Jupyter notebook. A Jupyter notebook consists of **text** cells and/or **code** cells. \n",
        "\n",
        "**Text cells** consists of instruction text while **code cells** contains Python codes.\n",
        "\n",
        "You can run a code cell by moving the cursor to the cell's left-hand side. A run button ![run icon](data:image/png;base64,iVBORw0KGgoAAAANSUhEUgAAABcAAAAWCAIAAACkFJBSAAAAAXNSR0IArs4c6QAAAARnQU1BAACxjwv8YQUAAAAJcEhZcwAADsMAAA7DAcdvqGQAAAAZdEVYdFNvZnR3YXJlAHBhaW50Lm5ldCA0LjAuMTnU1rJkAAAA/0lEQVQ4T62UzQ5EQBCE9/2faWOE4IojJyTcnIjrVnT5GWkTNvOdTFd1xTQzn8UHeso8z13XlWWZZZkxJgxDPGCJIiSaTigpfd/Hcfy9ARIMtG5cU+q6pt0JbGxYsVIeRgjnoCNlGAbqj0GL9DIFM4uiiOKJNE35pIEWGTZT2ralYgNTnudcaKDxSLmzito0TRAELNmgEQamJEnCso2oYBxH1YMiVKbg12LZRlRB3R0aIb1LKYqCwoaV4mdH7uni+Dya7t2XnqYJh5ALDetLY8/qCXz31wEPJ0DwcBqFqqrocgIbG1auKQDv6b6l9o3sKCkAM9tvTFyX/9yYr1mWH38E9B1y+Ak1AAAAAElFTkSuQmCC) will appear. Clicking on the \"run\" button executes the cell. After that, the run button turns into a stop button ![stop icon](data:image/png;base64,iVBORw0KGgoAAAANSUhEUgAAABwAAAAbCAYAAABvCO8sAAAABGdBTUEAALGPC/xhBQAAAAlwSFlzAAAOwQAADsEBuJFr7QAAABl0RVh0U29mdHdhcmUAcGFpbnQubmV0IDQuMC4xOdTWsmQAAAH9SURBVEhLvZbfqkFBFIc9HJE/pSSiUKK4UkoUJZfueAV3bly6Uh7AO60z35yzdnv2WVvo7LPqY+81s34/M3vPjJyI/CtmMkvM5DPm87kMh0OZTqcymUyk1+v57/1+75rtmjhmMgmi7XZbyuWyFItFKZVK/lvR+1qtJoPBwJXYOmAmlcViEQhjWK1WpdFo+FExUsucH7fZbJzEb81fCWU8Hkci9XrdGzyL0+nkRxc373a7NAW6wY1CR50+hK7Xq0t/i67Xay9Mu04heeqU0WgU1SdNowuFDnSk4EdIzueztFotyefzT6EPGjCbzbwGMFuaD8yY96TZ8Xg0xdMoFAqUeb1+v+/1YLfb+XxgyMOm8VOzOOhBp9OxR8iz0DdODfm1ltgrxEcaJ7rgBYibNZtNU+gd0EA7jv9gl9C5JjC1BD4B/Tj+gzWm00ksl0uzGNLC6gtouQgN2boww/TxePi1YxVDWlh9wVyHjBBDtqr7/e6XhVUMaWH1BbRchIbs/BhizK5SqVTMYkgLqy+g5SI01E2YTfl2u2U/pZxxjJCT4HK5/OlLs1qtaA4NQfe97XbrbiVnFX+C6ivRhW5rP8dQLtOFD7o0eIE0l+nWBtYpbYm9QlJHMZNJLME0GNnhcHBltpaZtHj3AE7DTD5D/2JwuuhfDHLJfmmYyeyQ3BdIy2Ofd0D8kgAAAABJRU5ErkJggg==) -- clicking on the stop button will interrupt the cell's execution. When the execution ends, the stop button turns back into a run button. If the execution runs into problem, the stop cursor will turn into a red-colored run button ![error icon](data:image/png;base64,iVBORw0KGgoAAAANSUhEUgAAABcAAAAWCAIAAACkFJBSAAAAAXNSR0IArs4c6QAAAARnQU1BAACxjwv8YQUAAAAJcEhZcwAADsMAAA7DAcdvqGQAAAAZdEVYdFNvZnR3YXJlAHBhaW50Lm5ldCA0LjAuMTnU1rJkAAABZElEQVQ4T61Uy0rDQBT1A9qdjVBEhYLixhZcNCDYD1GK2iDib4gW9SMEBRXdSkv9DV3apF2ki0AeIiRbT3tvSHKZWAs5nE3mPMJkMncpKgLqlvA78F6eJmedcUs31zWzVh3vN/GIRUhsSkHR4vffrMb2V6WkJCQY2BpDtjg3VyKmoFaGjQMzZFr+VREzXZS0BO99vERY/6JWRoSy3BL6nrWzKX2V0nhvV6ykiQiCSYv7eC8cxDDw7eMDsZgmgkmLfXIoZCKp7sPdcHVZSEQEYeCWUbMuZCKpwM/nx0hvCBVEECq3DNc0IRNJJSh3hyAkbjE3VoRMJJUwbTk9EgYEIRW6I9toC5lIqvf6nPt1jTYM3JJ70p47OTfEYpqZk8ZNtepbwgHO/+tmV5xbgAJuAMG57UprPmHmmGgBnOtL4VYQk6F7wYEZZAvgD3pzptSgx9YYihYgMzFr1enEbOmLTcyFEUW/89WaS+fKXXkAAAAASUVORK5CYII=) to indicate that the execution failed.\n",
        "\n",
        "*Tips: While your cursor is within a code cell, you can run the cell by pressing **`<Shift>+<Enter>`** instead of clicking the run button.*\n",
        "\n",
        "The output messages of a code cell is shown immediately below the cell. You can clear the output messages of a cell by right-clicking over the \"run\" button and selecting **\"Clear output\"**. The menu which shows up when you right-click over the \"run\" button also allows you to delete the associated cell.\n",
        "\n",
        "To create a new cell or reposition a cell, use the menu at the top of the page: ![menubar pic](data:image/png;base64,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).\n",
        "\n",
        "*Tips: Pressing* **`<Control>+<s>`** *saves changes you have made to the notebook immediately.*\n",
        "\n",
        "## Google Colab\n",
        "\n",
        "This Jupyter notebook runs on Google Colab, a free cloud platform for running Python codes with **GPU support**. To enable/disable GPU for a notebook, go to the top menu and choose \"**Edit**> **Notebook Settings**> **Hardware Accelarator**\".\n",
        "\n",
        "When a colab session is first started, a VM (virtual machine) is assigned to the session to store your files as well as execute your codes. However, each session lasts only for 12 hours. When the session ends, your variables and files created during the session is deleted. While you can continue to work by restarting a new session, you will need to restore your variables and files. To save those data across different sessions, you are advised to carefully output them to your local drive or to Google Drive."
      ]
    },
    {
      "cell_type": "markdown",
      "metadata": {
        "id": "lILxwOnqAdmH"
      },
      "source": [
        "\n",
        "\n",
        "---\n",
        "\n",
        "# Section 1: Operators and variables"
      ]
    },
    {
      "cell_type": "markdown",
      "metadata": {
        "id": "z3t9FYuNTbaP"
      },
      "source": [
        "## Arithmetic operators\n",
        "The Python interpreter can be used to evaluate expressions, for example simple arithmetic expressions."
      ]
    },
    {
      "cell_type": "code",
      "metadata": {
        "id": "fb5lWi7NOOuC",
        "colab": {
          "base_uri": "https://localhost:8080/"
        },
        "outputId": "90c69158-19e3-40a3-b9c7-ec6751730ae6"
      },
      "source": [
        "# This is a comment\n",
        "1 + 1   # addition operation"
      ],
      "execution_count": 2,
      "outputs": [
        {
          "output_type": "execute_result",
          "data": {
            "text/plain": [
              "2"
            ]
          },
          "metadata": {
            "tags": []
          },
          "execution_count": 2
        }
      ]
    },
    {
      "cell_type": "code",
      "metadata": {
        "id": "JMPEBfQWOOuI",
        "colab": {
          "base_uri": "https://localhost:8080/"
        },
        "outputId": "890ddab4-4dc4-4829-ea20-663050bfa21b"
      },
      "source": [
        "2 * 3   # multiplication operaiton"
      ],
      "execution_count": 3,
      "outputs": [
        {
          "output_type": "execute_result",
          "data": {
            "text/plain": [
              "6"
            ]
          },
          "metadata": {
            "tags": []
          },
          "execution_count": 3
        }
      ]
    },
    {
      "cell_type": "code",
      "metadata": {
        "id": "2sjN9NIOOOuM",
        "colab": {
          "base_uri": "https://localhost:8080/"
        },
        "outputId": "8988a03f-c6d6-4c3b-fe20-f725e85c94aa"
      },
      "source": [
        "11 / 3  # Normal division"
      ],
      "execution_count": 4,
      "outputs": [
        {
          "output_type": "execute_result",
          "data": {
            "text/plain": [
              "3.6666666666666665"
            ]
          },
          "metadata": {
            "tags": []
          },
          "execution_count": 4
        }
      ]
    },
    {
      "cell_type": "code",
      "metadata": {
        "id": "N-qOxu-COOuR",
        "colab": {
          "base_uri": "https://localhost:8080/"
        },
        "outputId": "2d982f7d-035a-474c-fd9c-d91d76063f21"
      },
      "source": [
        "11 // 3 # integer division"
      ],
      "execution_count": 5,
      "outputs": [
        {
          "output_type": "execute_result",
          "data": {
            "text/plain": [
              "3"
            ]
          },
          "metadata": {
            "tags": []
          },
          "execution_count": 5
        }
      ]
    },
    {
      "cell_type": "code",
      "metadata": {
        "id": "6-tSBXKvOOuV",
        "colab": {
          "base_uri": "https://localhost:8080/"
        },
        "outputId": "f6f359cc-1a2b-451f-a22b-91f02831d70c"
      },
      "source": [
        "11 % 3  # modulus operation"
      ],
      "execution_count": 6,
      "outputs": [
        {
          "output_type": "execute_result",
          "data": {
            "text/plain": [
              "2"
            ]
          },
          "metadata": {
            "tags": []
          },
          "execution_count": 6
        }
      ]
    },
    {
      "cell_type": "code",
      "metadata": {
        "id": "le-LompsOOuY",
        "colab": {
          "base_uri": "https://localhost:8080/"
        },
        "outputId": "660f9041-d3b1-44af-bb2a-9c7aa9d2d030"
      },
      "source": [
        "2 ** 3  # exponent operation"
      ],
      "execution_count": 7,
      "outputs": [
        {
          "output_type": "execute_result",
          "data": {
            "text/plain": [
              "8"
            ]
          },
          "metadata": {
            "tags": []
          },
          "execution_count": 7
        }
      ]
    },
    {
      "cell_type": "markdown",
      "metadata": {
        "id": "VpP6Zc7SOOud"
      },
      "source": [
        "Boolean operators also exist in Python to manipulate the primitive True and False values."
      ]
    },
    {
      "cell_type": "code",
      "metadata": {
        "id": "D1wJoTcKOOud",
        "colab": {
          "base_uri": "https://localhost:8080/"
        },
        "outputId": "d93ff83d-546f-4723-e6ba-9fc5cbae7d31"
      },
      "source": [
        "1 == 0"
      ],
      "execution_count": 8,
      "outputs": [
        {
          "output_type": "execute_result",
          "data": {
            "text/plain": [
              "False"
            ]
          },
          "metadata": {
            "tags": []
          },
          "execution_count": 8
        }
      ]
    },
    {
      "cell_type": "code",
      "metadata": {
        "id": "1WkICa0XOOuh",
        "colab": {
          "base_uri": "https://localhost:8080/"
        },
        "outputId": "11518c53-6ac3-4de1-ec35-8f4f876d4829"
      },
      "source": [
        "not (1 == 0)"
      ],
      "execution_count": 9,
      "outputs": [
        {
          "output_type": "execute_result",
          "data": {
            "text/plain": [
              "True"
            ]
          },
          "metadata": {
            "tags": []
          },
          "execution_count": 9
        }
      ]
    },
    {
      "cell_type": "code",
      "metadata": {
        "id": "Beq0EP_GOOuk",
        "colab": {
          "base_uri": "https://localhost:8080/"
        },
        "outputId": "d1976cc0-e389-4cda-aa77-fad981dd3ed8"
      },
      "source": [
        "(2 == 2) and (2 == 3)"
      ],
      "execution_count": 10,
      "outputs": [
        {
          "output_type": "execute_result",
          "data": {
            "text/plain": [
              "False"
            ]
          },
          "metadata": {
            "tags": []
          },
          "execution_count": 10
        }
      ]
    },
    {
      "cell_type": "code",
      "metadata": {
        "id": "XOK9VHFmOOvG",
        "colab": {
          "base_uri": "https://localhost:8080/"
        },
        "outputId": "72566238-c1d0-40a6-b945-abb787e2dacb"
      },
      "source": [
        "(2 == 2) or (2 == 3)"
      ],
      "execution_count": 11,
      "outputs": [
        {
          "output_type": "execute_result",
          "data": {
            "text/plain": [
              "True"
            ]
          },
          "metadata": {
            "tags": []
          },
          "execution_count": 11
        }
      ]
    },
    {
      "cell_type": "markdown",
      "metadata": {
        "id": "_GvUvrQbOOvJ"
      },
      "source": [
        "## Variables\n",
        "\n",
        "We can also store expressions into variables. Here are some important rules about using variables in Python:\n",
        "\n",
        "You do not have to perform variable declaration, but a variable must be created before it can be used. (In Jupyter notebook, the variables created by running a code cell is immediately available in other code cells.)\n",
        "\n",
        "The type of a variable is automatically determined based on the value assigned.\n",
        "\n"
      ]
    },
    {
      "cell_type": "code",
      "metadata": {
        "id": "AT9nl63mOOvJ",
        "colab": {
          "base_uri": "https://localhost:8080/"
        },
        "outputId": "e3a03e68-0740-43cd-f7af-a92936548dea"
      },
      "source": [
        "s = 'hello world'   # defining a variable\n",
        "print(s)\n",
        "print(type(s))"
      ],
      "execution_count": 13,
      "outputs": [
        {
          "output_type": "stream",
          "text": [
            "hello world\n",
            "<class 'str'>\n"
          ],
          "name": "stdout"
        }
      ]
    },
    {
      "cell_type": "markdown",
      "metadata": {
        "id": "H1SidTyDOOvM"
      },
      "source": [
        "In the above code, we use `type` to display the type of `s`. Since 'hello world' is a string, the variable `s` is of type string."
      ]
    },
    {
      "cell_type": "code",
      "metadata": {
        "id": "BUHJHtxrOOvM",
        "colab": {
          "base_uri": "https://localhost:8080/"
        },
        "outputId": "f72ee989-7e50-4765-8dc7-7b9983e721a0"
      },
      "source": [
        "fval = 7.3   # this will create a floating point variable\n",
        "print(fval)\n",
        "print(type(fval))"
      ],
      "execution_count": 14,
      "outputs": [
        {
          "output_type": "stream",
          "text": [
            "7.3\n",
            "<class 'float'>\n"
          ],
          "name": "stdout"
        }
      ]
    },
    {
      "cell_type": "code",
      "metadata": {
        "id": "ftnH5MOEOOvR",
        "colab": {
          "base_uri": "https://localhost:8080/"
        },
        "outputId": "5947397a-b5d2-4e0f-ae85-01f226f487f2"
      },
      "source": [
        "ival = 12    # this will create an integer variable\n",
        "print(ival)\n",
        "print(type(ival))"
      ],
      "execution_count": 15,
      "outputs": [
        {
          "output_type": "stream",
          "text": [
            "12\n",
            "<class 'int'>\n"
          ],
          "name": "stdout"
        }
      ]
    },
    {
      "cell_type": "code",
      "metadata": {
        "id": "dYAVc6yWOOvT",
        "colab": {
          "base_uri": "https://localhost:8080/"
        },
        "outputId": "cea92250-7a68-4eaf-b0df-f66d071cc496"
      },
      "source": [
        "fval += 2.5  # operate on fval\n",
        "print(fval)  # you can print the content of a variable  using print command"
      ],
      "execution_count": 16,
      "outputs": [
        {
          "output_type": "stream",
          "text": [
            "9.8\n"
          ],
          "name": "stdout"
        }
      ]
    },
    {
      "cell_type": "code",
      "metadata": {
        "id": "K5CE2L07OOvX",
        "colab": {
          "base_uri": "https://localhost:8080/"
        },
        "outputId": "7d6bd6de-aa9e-494b-8065-155cb13b6f42"
      },
      "source": [
        "ival += 3    \n",
        "ival         # you can display the value of a variable by typing the variable name"
      ],
      "execution_count": 17,
      "outputs": [
        {
          "output_type": "execute_result",
          "data": {
            "text/plain": [
              "15"
            ]
          },
          "metadata": {
            "tags": []
          },
          "execution_count": 17
        }
      ]
    },
    {
      "cell_type": "markdown",
      "metadata": {
        "id": "BAVGz6iAOOvZ"
      },
      "source": [
        "Remember that you cannot use a variable that you have not created. The following command will generate an error  because `var` has not been created."
      ]
    },
    {
      "cell_type": "code",
      "metadata": {
        "id": "qhEyCqwmOOva",
        "colab": {
          "base_uri": "https://localhost:8080/",
          "height": 174
        },
        "outputId": "cf3dc0da-b4fa-4cb5-c7b9-4b87f8231ab5"
      },
      "source": [
        "print(var)   # we have not defined a variable called var! This will generate an error!"
      ],
      "execution_count": 18,
      "outputs": [
        {
          "output_type": "error",
          "ename": "NameError",
          "evalue": "ignored",
          "traceback": [
            "\u001b[0;31m---------------------------------------------------------------------------\u001b[0m",
            "\u001b[0;31mNameError\u001b[0m                                 Traceback (most recent call last)",
            "\u001b[0;32m<ipython-input-18-0b65bda2f1d6>\u001b[0m in \u001b[0;36m<module>\u001b[0;34m()\u001b[0m\n\u001b[0;32m----> 1\u001b[0;31m \u001b[0mprint\u001b[0m\u001b[0;34m(\u001b[0m\u001b[0mvar\u001b[0m\u001b[0;34m)\u001b[0m   \u001b[0;31m# we have not defined a variable called var! This will generate an error!\u001b[0m\u001b[0;34m\u001b[0m\u001b[0;34m\u001b[0m\u001b[0m\n\u001b[0m",
            "\u001b[0;31mNameError\u001b[0m: name 'var' is not defined"
          ]
        }
      ]
    },
    {
      "cell_type": "markdown",
      "metadata": {
        "id": "JySEebjxOOvc"
      },
      "source": [
        "## Importing libraries (modules)\n",
        "One reason for the popularity of Python is the large number of libraries (called modules) available for the language.\n",
        "\n",
        "To use a module, use the keyword `import`.\n",
        "\n",
        "The following codes import the math module, which enables you to use mathematical functions such as π (pi) and sine, cosine and tangent."
      ]
    },
    {
      "cell_type": "code",
      "metadata": {
        "id": "8YxMrdK2OOvd"
      },
      "source": [
        "import math"
      ],
      "execution_count": 19,
      "outputs": []
    },
    {
      "cell_type": "code",
      "metadata": {
        "id": "_IIdbtCwOOvg",
        "colab": {
          "base_uri": "https://localhost:8080/"
        },
        "outputId": "2d4975c9-36e1-4bc4-c23a-0db35f442b57"
      },
      "source": [
        "print ('The sin of 90 degrees is', math.sin(math.pi/2))"
      ],
      "execution_count": 20,
      "outputs": [
        {
          "output_type": "stream",
          "text": [
            "The sin of 90 degrees is 1.0\n"
          ],
          "name": "stdout"
        }
      ]
    },
    {
      "cell_type": "code",
      "metadata": {
        "id": "zPUUg-ShOOvz",
        "colab": {
          "base_uri": "https://localhost:8080/"
        },
        "outputId": "83aaf8e4-eb74-43ad-93d5-cca898126ac0"
      },
      "source": [
        "print ('log of 100 is ', math.log10(100))"
      ],
      "execution_count": 21,
      "outputs": [
        {
          "output_type": "stream",
          "text": [
            "log of 100 is  2.0\n"
          ],
          "name": "stdout"
        }
      ]
    },
    {
      "cell_type": "markdown",
      "metadata": {
        "id": "1KvGvomL28V_"
      },
      "source": [
        "If we are only interested in a particular function (or class) from a module, for example, if we only need `sqrt` from the `math` module, we may write the following:"
      ]
    },
    {
      "cell_type": "code",
      "metadata": {
        "id": "aCTe8BvI3QHW",
        "colab": {
          "base_uri": "https://localhost:8080/"
        },
        "outputId": "86156e00-fd66-424d-8105-55412eedb3bf"
      },
      "source": [
        "from math import sqrt\n",
        "sqrt(2)"
      ],
      "execution_count": 22,
      "outputs": [
        {
          "output_type": "execute_result",
          "data": {
            "text/plain": [
              "1.4142135623730951"
            ]
          },
          "metadata": {
            "tags": []
          },
          "execution_count": 22
        }
      ]
    },
    {
      "cell_type": "markdown",
      "metadata": {
        "id": "wQKoMG92OOv6"
      },
      "source": [
        "## The `string` class\n",
        "\n",
        "Like C++ and Java, Python has a built in string type. A `string` object can be defined with either a single quote (`'`)  or double quote (`\"`). "
      ]
    },
    {
      "cell_type": "code",
      "metadata": {
        "id": "kC9kZJL5OOwB"
      },
      "source": [
        "s = 'hot'"
      ],
      "execution_count": 23,
      "outputs": []
    },
    {
      "cell_type": "code",
      "metadata": {
        "id": "67vuxI1zOOwG"
      },
      "source": [
        "s = s + 'dog' # or s += 'dog'"
      ],
      "execution_count": 24,
      "outputs": []
    },
    {
      "cell_type": "code",
      "metadata": {
        "id": "ZQX80sCuOOwL",
        "colab": {
          "base_uri": "https://localhost:8080/",
          "height": 36
        },
        "outputId": "0bfdde7b-96a7-442c-e2e9-feb4e4f4183d"
      },
      "source": [
        "s             # display the value of the string object"
      ],
      "execution_count": 25,
      "outputs": [
        {
          "output_type": "execute_result",
          "data": {
            "application/vnd.google.colaboratory.intrinsic+json": {
              "type": "string"
            },
            "text/plain": [
              "'hotdog'"
            ]
          },
          "metadata": {
            "tags": []
          },
          "execution_count": 25
        }
      ]
    },
    {
      "cell_type": "code",
      "metadata": {
        "id": "jw6KV2i_OOwS",
        "colab": {
          "base_uri": "https://localhost:8080/"
        },
        "outputId": "56796fb2-03dd-4b67-8f0c-9c67cd9d0c70"
      },
      "source": [
        "print(s)      # printing the string object"
      ],
      "execution_count": 26,
      "outputs": [
        {
          "output_type": "stream",
          "text": [
            "hotdog\n"
          ],
          "name": "stdout"
        }
      ]
    },
    {
      "cell_type": "markdown",
      "metadata": {
        "id": "fQjb6yGrOOwY"
      },
      "source": [
        "Python is object-oriented. To show this let us consider the `string` class in the following codes.\n",
        "\n",
        "*(To see the list of functions provided by a class, type the object variable name and then press TAB. For example, typing  `s.<TAB>` will pop up a menu which shows the list of functions for the class.)*\n",
        "\n"
      ]
    },
    {
      "cell_type": "code",
      "metadata": {
        "id": "3hiPCMNyOOwZ",
        "colab": {
          "base_uri": "https://localhost:8080/",
          "height": 36
        },
        "outputId": "28f05b73-1744-4fad-aaec-d636f302dadd"
      },
      "source": [
        "s = 'HELP'\n",
        "s.lower()"
      ],
      "execution_count": 27,
      "outputs": [
        {
          "output_type": "execute_result",
          "data": {
            "application/vnd.google.colaboratory.intrinsic+json": {
              "type": "string"
            },
            "text/plain": [
              "'help'"
            ]
          },
          "metadata": {
            "tags": []
          },
          "execution_count": 27
        }
      ]
    },
    {
      "cell_type": "code",
      "metadata": {
        "id": "MjumCwGDOOwg",
        "colab": {
          "base_uri": "https://localhost:8080/",
          "height": 36
        },
        "outputId": "5b73eea9-33d0-4099-f165-0c1e32005544"
      },
      "source": [
        "'help'.upper()"
      ],
      "execution_count": 28,
      "outputs": [
        {
          "output_type": "execute_result",
          "data": {
            "application/vnd.google.colaboratory.intrinsic+json": {
              "type": "string"
            },
            "text/plain": [
              "'HELP'"
            ]
          },
          "metadata": {
            "tags": []
          },
          "execution_count": 28
        }
      ]
    },
    {
      "cell_type": "markdown",
      "metadata": {
        "id": "Y5-jrggLOOwq"
      },
      "source": [
        "To get the length of a string, you can use the `len` command."
      ]
    },
    {
      "cell_type": "code",
      "metadata": {
        "id": "cmTCIAGOOOwr",
        "colab": {
          "base_uri": "https://localhost:8080/"
        },
        "outputId": "dfaebe88-90a4-4d60-f415-292093d071f4"
      },
      "source": [
        "len('Help')"
      ],
      "execution_count": 29,
      "outputs": [
        {
          "output_type": "execute_result",
          "data": {
            "text/plain": [
              "4"
            ]
          },
          "metadata": {
            "tags": []
          },
          "execution_count": 29
        }
      ]
    },
    {
      "cell_type": "markdown",
      "metadata": {
        "id": "aP97CwBNOOw3"
      },
      "source": [
        "You can also use the command `help` to get help on commands."
      ]
    },
    {
      "cell_type": "code",
      "metadata": {
        "id": "NX-YLNvuOOw4",
        "colab": {
          "base_uri": "https://localhost:8080/"
        },
        "outputId": "73854a32-6a9c-42fe-caa9-ee5ca0109fce"
      },
      "source": [
        "help(s.find)"
      ],
      "execution_count": 30,
      "outputs": [
        {
          "output_type": "stream",
          "text": [
            "Help on built-in function find:\n",
            "\n",
            "find(...) method of builtins.str instance\n",
            "    S.find(sub[, start[, end]]) -> int\n",
            "    \n",
            "    Return the lowest index in S where substring sub is found,\n",
            "    such that sub is contained within S[start:end].  Optional\n",
            "    arguments start and end are interpreted as in slice notation.\n",
            "    \n",
            "    Return -1 on failure.\n",
            "\n"
          ],
          "name": "stdout"
        }
      ]
    },
    {
      "cell_type": "markdown",
      "metadata": {
        "id": "zxIUS5f6OOxD"
      },
      "source": [
        "## Printing to screen\n",
        "\n",
        "The standard way for showing output messages is through the function `print`."
      ]
    },
    {
      "cell_type": "code",
      "metadata": {
        "id": "7ia2DVnZOOxD",
        "colab": {
          "base_uri": "https://localhost:8080/"
        },
        "outputId": "1f4bd7d4-0dc0-48f8-df45-cc95ac8c8796"
      },
      "source": [
        "a = 3\n",
        "print('There are', a, 'people in the meeting')"
      ],
      "execution_count": 31,
      "outputs": [
        {
          "output_type": "stream",
          "text": [
            "There are 3 people in the meeting\n"
          ],
          "name": "stdout"
        }
      ]
    },
    {
      "cell_type": "markdown",
      "metadata": {
        "id": "nWFpNKt_OOxG"
      },
      "source": [
        "You can format output using the `str.format()` method where we use the curly braces `{}` as placeholders.  \n",
        "\n",
        "In the following example, the first bracket `{}` would be replaced by `x` and the second by `y`. "
      ]
    },
    {
      "cell_type": "code",
      "metadata": {
        "id": "5l8CS1xVOOxG",
        "colab": {
          "base_uri": "https://localhost:8080/"
        },
        "outputId": "13a8e2f2-1a74-4240-9468-16a06f6c0fb0"
      },
      "source": [
        "x = 5; y = 10\n",
        "print('The value of x is {} and y is {}'.format(x,y))"
      ],
      "execution_count": 32,
      "outputs": [
        {
          "output_type": "stream",
          "text": [
            "The value of x is 5 and y is 10\n"
          ],
          "name": "stdout"
        }
      ]
    },
    {
      "cell_type": "markdown",
      "metadata": {
        "id": "bUBr9E7AOOxJ"
      },
      "source": [
        "We can also specify *the order* in which it is printed by using numbers (tuple index).\n",
        "\n",
        "In the following example, the placeholder `{0}` would be replaced by the first parameter `bread` regardless of its position in the `print` statement. Similarly for the placeholder `{1}`. "
      ]
    },
    {
      "cell_type": "code",
      "metadata": {
        "id": "JguPD4mUOOxJ",
        "colab": {
          "base_uri": "https://localhost:8080/"
        },
        "outputId": "41ac6392-6977-4536-fc99-c6e019b16c7a"
      },
      "source": [
        "print('I love {0} and {1}'.format('bread', 'butter'))\n",
        "print('I love {1} and {0}'.format('bread', 'butter'))  # changing the order"
      ],
      "execution_count": 33,
      "outputs": [
        {
          "output_type": "stream",
          "text": [
            "I love bread and butter\n",
            "I love butter and bread\n"
          ],
          "name": "stdout"
        }
      ]
    },
    {
      "cell_type": "markdown",
      "metadata": {
        "id": "69oiUITyOOxM"
      },
      "source": [
        "Formatting of integer values can be done as in the following example, where\n",
        "* `d` specifies that the placedholder is to be replaced by an *integer*. \n",
        "* `6` specifies that a total of 6 characters would be allocated to print out the integer."
      ]
    },
    {
      "cell_type": "code",
      "metadata": {
        "id": "6li4FUQJOOxO",
        "colab": {
          "base_uri": "https://localhost:8080/"
        },
        "outputId": "75910e65-ea58-433b-bb71-e4ce6d54a93c"
      },
      "source": [
        "print('Integer value is {:d}.'.format(23))\n",
        "print('Integer value is {:6d}.'.format(23))"
      ],
      "execution_count": 34,
      "outputs": [
        {
          "output_type": "stream",
          "text": [
            "Integer value is 23.\n",
            "Integer value is     23.\n"
          ],
          "name": "stdout"
        }
      ]
    },
    {
      "cell_type": "markdown",
      "metadata": {
        "id": "xX9FDgwxOOxR"
      },
      "source": [
        "Formatting of floating point values can be done as in the following example, where\n",
        "* `f`  specifies that the placedholder is to be replaced by an *real number*. \n",
        "* `6` specifies that a total of 6 characters would be allocated to print out the number. \n",
        "* `.2` displays the real number up to two decimal places\n",
        "* `0` specifies that if the number of characters is less than number of allocated characters (6 in our case), the empty spaces should be replaced with 0."
      ]
    },
    {
      "cell_type": "code",
      "metadata": {
        "id": "d-MkGingOOxS",
        "colab": {
          "base_uri": "https://localhost:8080/"
        },
        "outputId": "b716a1f4-2d16-49f6-b9ff-a6e168f7e470"
      },
      "source": [
        "print('The float value is {:f}'.format(3.141592653589793))\n",
        "print('The float value is {:06.2f}'.format(3.141592653589793))\n",
        "print('The float value is {:6.2f}'.format(3.141592653589793))"
      ],
      "execution_count": 35,
      "outputs": [
        {
          "output_type": "stream",
          "text": [
            "The float value is 3.141593\n",
            "The float value is 003.14\n",
            "The float value is   3.14\n"
          ],
          "name": "stdout"
        }
      ]
    },
    {
      "cell_type": "markdown",
      "metadata": {
        "id": "ROQm0zCpARR6"
      },
      "source": [
        "---\n",
        "# Section 2: Functions and control structures"
      ]
    },
    {
      "cell_type": "markdown",
      "metadata": {
        "id": "M7viXmChOOxk"
      },
      "source": [
        "## Functions\n",
        "Python functions are defined similar to other languages such as C and Java. **However, blocks of codes in Python are organized by how they are indented.** \n",
        "\n",
        "While in languages such as C/C++, Java, JavaScript, C#, Perl, and R, codes are placed within curly brackets (`{}`) to form a block,\n",
        "in Python, codes are considered to be in the same block if they are indented by the same amount of space from the left (unless broken by a higher level block). The figure below gives a simple, easy-to-understand example.\n",
        "\n",
        "![indentation figure](data:image/png;base64,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)\n",
        "\n",
        "These indentations can be written with spaces or tabs, but the same spaces/tabs must be consistently used for all the codes in the same block.\n",
        "\n",
        "Another important thing to take note is that unlike in other languages, **statements in Python do not end in '`;`'**.\n",
        "\n",
        "\n",
        "\n"
      ]
    },
    {
      "cell_type": "code",
      "metadata": {
        "id": "ifQz_l3ROOxl"
      },
      "source": [
        "# Correct way of defining a function\n",
        "def square(num):  \n",
        "    \"Returns the square of a number\"\n",
        "    result = num**2\n",
        "    return result"
      ],
      "execution_count": 36,
      "outputs": []
    },
    {
      "cell_type": "markdown",
      "metadata": {
        "id": "iURm6A2dOOxm"
      },
      "source": [
        "**Note that the function definition ends with a ':' character.**\n",
        "Now that we have defined our function `square`, we can make use of the function to square some numbers."
      ]
    },
    {
      "cell_type": "code",
      "metadata": {
        "id": "zlXvNUZIOOxm",
        "colab": {
          "base_uri": "https://localhost:8080/"
        },
        "outputId": "a0dcb953-bfc7-43f8-dc2c-8fc2dd74fb5c"
      },
      "source": [
        "x = square(2)\n",
        "print(\"{0} times {0} equals {1}\".format(2, x))\n",
        "x = square(2.5)\n",
        "print(\"{0}{0} equals {1}\".format(2.5, x))"
      ],
      "execution_count": 37,
      "outputs": [
        {
          "output_type": "stream",
          "text": [
            "2 times 2 equals 4\n",
            "2.52.5 equals 6.25\n"
          ],
          "name": "stdout"
        }
      ]
    },
    {
      "cell_type": "markdown",
      "metadata": {
        "id": "d_5VmazJOOxo"
      },
      "source": [
        "The following codes would result in an **IndentationError** since Python does not use curly bracket to define the code block."
      ]
    },
    {
      "cell_type": "code",
      "metadata": {
        "id": "a6featyzOOxp",
        "colab": {
          "base_uri": "https://localhost:8080/",
          "height": 136
        },
        "outputId": "1d032bba-fca2-401f-b835-867b47b034ae"
      },
      "source": [
        "# this will not work. \n",
        "\n",
        "def square(num):\n",
        "{\n",
        "   result = num**2\n",
        "   return result\n",
        "}"
      ],
      "execution_count": 38,
      "outputs": [
        {
          "output_type": "error",
          "ename": "IndentationError",
          "evalue": "ignored",
          "traceback": [
            "\u001b[0;36m  File \u001b[0;32m\"<ipython-input-38-302a53b8e64f>\"\u001b[0;36m, line \u001b[0;32m4\u001b[0m\n\u001b[0;31m    {\u001b[0m\n\u001b[0m    ^\u001b[0m\n\u001b[0;31mIndentationError\u001b[0m\u001b[0;31m:\u001b[0m expected an indented block\n"
          ]
        }
      ]
    },
    {
      "cell_type": "markdown",
      "metadata": {
        "id": "4erJwFYNOOxu"
      },
      "source": [
        "The following codes would result in an **IndentationError** as well."
      ]
    },
    {
      "cell_type": "code",
      "metadata": {
        "id": "plt6MLy_OOxu"
      },
      "source": [
        "# This will NOT work.\n",
        "\n",
        "def square(num):\n",
        "    result = num**2\n",
        "return result"
      ],
      "execution_count": null,
      "outputs": []
    },
    {
      "cell_type": "markdown",
      "metadata": {
        "id": "qtwFabMVOOxx"
      },
      "source": [
        "### Functions returning more than one variable\n",
        "\n",
        "Different from most languages, Python functions are allowed to return more than one variable."
      ]
    },
    {
      "cell_type": "code",
      "metadata": {
        "id": "8kuRPJbEOOxx"
      },
      "source": [
        "def get_square_n_cube(num):\n",
        "    \"Returns the square of a number\"\n",
        "    sq = num**2\n",
        "    cb = num**3\n",
        "    return sq, cb"
      ],
      "execution_count": 39,
      "outputs": []
    },
    {
      "cell_type": "code",
      "metadata": {
        "id": "UENUJ5dhOOx0",
        "colab": {
          "base_uri": "https://localhost:8080/"
        },
        "outputId": "a222ca61-4be2-4c95-942f-ed79017526d3"
      },
      "source": [
        "sq, cb = get_square_n_cube(2)\n",
        "print(sq, cb)"
      ],
      "execution_count": 40,
      "outputs": [
        {
          "output_type": "stream",
          "text": [
            "4 8\n"
          ],
          "name": "stdout"
        }
      ]
    },
    {
      "cell_type": "markdown",
      "metadata": {
        "id": "QSKY7TWG78yC"
      },
      "source": [
        "Variables returned from a function can be selectively ignored, as follows."
      ]
    },
    {
      "cell_type": "code",
      "metadata": {
        "id": "crDiFCNB77lc",
        "colab": {
          "base_uri": "https://localhost:8080/"
        },
        "outputId": "2aa9b505-ebcd-46cc-a72b-a43db173258d"
      },
      "source": [
        "sq, _ = get_square_n_cube(2)   # ignore the cube\n",
        "print(sq)"
      ],
      "execution_count": 41,
      "outputs": [
        {
          "output_type": "stream",
          "text": [
            "4\n"
          ],
          "name": "stdout"
        }
      ]
    },
    {
      "cell_type": "markdown",
      "metadata": {
        "id": "VOuHBxGnOOx2"
      },
      "source": [
        "### Function parameter passing\n",
        "Same as with other languages,  in Python, objects are passed by reference, while **primitive variables** such as `integer`, `double` and `float` as well as **`string`s** are **passed by value**. For example, in the following code, changes to parameters `intval` and `strval` in `func` will not affect the original two variables. "
      ]
    },
    {
      "cell_type": "code",
      "metadata": {
        "id": "XOyR9_FxOOx2"
      },
      "source": [
        "def func(intval, strval):\n",
        "    intval = 100\n",
        "    strval = \"Modified string value\"\n",
        "    print (\">>> func: numval = {}, strval = {}\".format(intval, strval))"
      ],
      "execution_count": 42,
      "outputs": []
    },
    {
      "cell_type": "code",
      "metadata": {
        "id": "W7gnFA8YOOx3",
        "colab": {
          "base_uri": "https://localhost:8080/"
        },
        "outputId": "e7721b1c-33f5-4277-df94-4be16576c7e3"
      },
      "source": [
        "intval  = 0\n",
        "strval = \"Original string value\"\n",
        "\n",
        "print (\"main (before calling func): numval = {}, strval = {}\".format(intval, strval))\n",
        "func(intval, strval)\n",
        "print (\"main (after calling func): numval = {}, strval = {}\".format(intval, strval))\n"
      ],
      "execution_count": 43,
      "outputs": [
        {
          "output_type": "stream",
          "text": [
            "main (before calling func): numval = 0, strval = Original string value\n",
            ">>> func: numval = 100, strval = Modified string value\n",
            "main (after calling func): numval = 0, strval = Original string value\n"
          ],
          "name": "stdout"
        }
      ]
    },
    {
      "cell_type": "markdown",
      "metadata": {
        "id": "2ya9rlIQOOx6"
      },
      "source": [
        "### Function default arguments"
      ]
    },
    {
      "cell_type": "markdown",
      "metadata": {
        "id": "72ZvgGVNgKzg"
      },
      "source": [
        "Python allows the setting of default arguments in the list of input parameters -- these values will be used when the caller does not specify the values for these parameters.\n",
        "\n",
        "We show this with the following function, which also uses an `if` statement. In Python, an `if` statement must end with the \"`:`\" character, and the entire block of codes to be executed must be indented further to the right.\n",
        "\n"
      ]
    },
    {
      "cell_type": "code",
      "metadata": {
        "id": "x1eMmzErgKFK"
      },
      "source": [
        "def square(num, rounding=False):\n",
        "    result = num**2\n",
        "    if rounding:\n",
        "        result = int(result)\n",
        "    return result"
      ],
      "execution_count": 44,
      "outputs": []
    },
    {
      "cell_type": "code",
      "metadata": {
        "id": "MrQ_EyZ8OOx7",
        "colab": {
          "base_uri": "https://localhost:8080/"
        },
        "outputId": "38f36db9-7c6b-484c-8326-b9188055ea84"
      },
      "source": [
        "print(square(2.5))\n",
        "print(square(2.5, rounding=True))\n",
        "print(square(2.5, True))"
      ],
      "execution_count": 45,
      "outputs": [
        {
          "output_type": "stream",
          "text": [
            "6.25\n",
            "6\n",
            "6\n"
          ],
          "name": "stdout"
        }
      ]
    },
    {
      "cell_type": "markdown",
      "metadata": {
        "id": "1_uyDXdXOOyE"
      },
      "source": [
        "## Conditional operators\n",
        "Python only allows the conditional operators: `if` and `elif`. There is no `switch-case` operator in Python.\n",
        "\n",
        "The following code shows the syntax for implementing compound conditions in Python."
      ]
    },
    {
      "cell_type": "code",
      "metadata": {
        "id": "dpKpqTtROOyH",
        "colab": {
          "base_uri": "https://localhost:8080/"
        },
        "outputId": "c8848fdf-0541-4a35-ee6a-5f0b667849db"
      },
      "source": [
        "from random import random\n",
        "\n",
        "if random() > .5 and random() > .5:\n",
        "    print('This line gets printed 1/4 of the time')\n",
        "else:\n",
        "    print('This line gets printed 3/4 of the time')"
      ],
      "execution_count": 46,
      "outputs": [
        {
          "output_type": "stream",
          "text": [
            "This line gets printed 3/4 of the time\n"
          ],
          "name": "stdout"
        }
      ]
    },
    {
      "cell_type": "code",
      "metadata": {
        "id": "C6zHMJxP-mOd",
        "colab": {
          "base_uri": "https://localhost:8080/"
        },
        "outputId": "65eb32ef-633d-4862-bfd0-722048b56e5c"
      },
      "source": [
        "from random import random\n",
        "\n",
        "if random() > .5 or random() > .5:\n",
        "    print('This line gets printed 3/4 of the time')\n",
        "else:\n",
        "    print('This line gets printed 1/4 of the time')"
      ],
      "execution_count": 47,
      "outputs": [
        {
          "output_type": "stream",
          "text": [
            "This line gets printed 1/4 of the time\n"
          ],
          "name": "stdout"
        }
      ]
    },
    {
      "cell_type": "markdown",
      "metadata": {
        "id": "zNc5Ra4KOOyL"
      },
      "source": [
        "## Loops\n",
        "\n",
        "The operator for performing loops in Python is `for` and `while`. Similarly, indentation is used to define the scope for loops. The following example show how to use the `for` loop to iterate a list of integers and strings"
      ]
    },
    {
      "cell_type": "code",
      "metadata": {
        "id": "bItsuAqfOOyL",
        "colab": {
          "base_uri": "https://localhost:8080/"
        },
        "outputId": "71c0c167-dba5-4d59-a15e-91e0a740e2c5"
      },
      "source": [
        "for num in [1, 2, 3, 4, 5]:\n",
        "    print(num)"
      ],
      "execution_count": 48,
      "outputs": [
        {
          "output_type": "stream",
          "text": [
            "1\n",
            "2\n",
            "3\n",
            "4\n",
            "5\n"
          ],
          "name": "stdout"
        }
      ]
    },
    {
      "cell_type": "code",
      "metadata": {
        "id": "kzeCvC24OOyN",
        "colab": {
          "base_uri": "https://localhost:8080/"
        },
        "outputId": "51bf68f3-6a40-406e-a9fb-ec9d821516a9"
      },
      "source": [
        "for name in ['lessie', 'joe', 'bob']:\n",
        "    print(name)"
      ],
      "execution_count": 49,
      "outputs": [
        {
          "output_type": "stream",
          "text": [
            "lessie\n",
            "joe\n",
            "bob\n"
          ],
          "name": "stdout"
        }
      ]
    },
    {
      "cell_type": "code",
      "metadata": {
        "id": "bW04otttOOyQ",
        "colab": {
          "base_uri": "https://localhost:8080/"
        },
        "outputId": "de4027e1-0f34-4f97-dd3e-1e77d19ce1e1"
      },
      "source": [
        "num = 1\n",
        "while num <= 5:\n",
        "    print(num)\n",
        "    num += 1"
      ],
      "execution_count": 50,
      "outputs": [
        {
          "output_type": "stream",
          "text": [
            "1\n",
            "2\n",
            "3\n",
            "4\n",
            "5\n"
          ],
          "name": "stdout"
        }
      ]
    },
    {
      "cell_type": "markdown",
      "metadata": {
        "id": "mhPwNFy9OOyS"
      },
      "source": [
        "You can use the function **`range(end)`** to generate  an iterable sequence of integers starting from 0 up to not including `end`."
      ]
    },
    {
      "cell_type": "code",
      "metadata": {
        "id": "zuG8fCOMOOyU",
        "colab": {
          "base_uri": "https://localhost:8080/"
        },
        "outputId": "2c24d4c6-98c5-4855-83dd-75e9509f115b"
      },
      "source": [
        "for num in range(5):        \n",
        "    print(num) "
      ],
      "execution_count": 51,
      "outputs": [
        {
          "output_type": "stream",
          "text": [
            "0\n",
            "1\n",
            "2\n",
            "3\n",
            "4\n"
          ],
          "name": "stdout"
        }
      ]
    },
    {
      "cell_type": "markdown",
      "metadata": {
        "id": "omKEe-mxOOyV"
      },
      "source": [
        "You can use the function **`range(start, end)`** to generate  an iterable sequence of integers starting from `start` up to `end-1`."
      ]
    },
    {
      "cell_type": "code",
      "metadata": {
        "id": "fk3CXsI0OOyW",
        "colab": {
          "base_uri": "https://localhost:8080/"
        },
        "outputId": "00742021-cf3a-4ce2-c44d-3643b85a292c"
      },
      "source": [
        "for num in range(3, 7):     \n",
        "    print(num) "
      ],
      "execution_count": 52,
      "outputs": [
        {
          "output_type": "stream",
          "text": [
            "3\n",
            "4\n",
            "5\n",
            "6\n"
          ],
          "name": "stdout"
        }
      ]
    },
    {
      "cell_type": "markdown",
      "metadata": {
        "id": "3FIzbwdYOOyY"
      },
      "source": [
        "You can use the function **`range(start, end, skip)`** to generate an iterable sequence of integers starting from start up to end-1 with a resolution of `skip` ."
      ]
    },
    {
      "cell_type": "code",
      "metadata": {
        "id": "TzWh43aiOOyZ",
        "colab": {
          "base_uri": "https://localhost:8080/"
        },
        "outputId": "fef01f7d-3272-474f-af7d-8722c0e99b04"
      },
      "source": [
        "for num in range(10, 26, 5):  \n",
        "    print(num) "
      ],
      "execution_count": 53,
      "outputs": [
        {
          "output_type": "stream",
          "text": [
            "10\n",
            "15\n",
            "20\n",
            "25\n"
          ],
          "name": "stdout"
        }
      ]
    },
    {
      "cell_type": "markdown",
      "metadata": {
        "id": "Cx3N4H_ROOyb"
      },
      "source": [
        "When looping a sequence, the position index and corresponding value can be retrieved using the **`enumerate()`** function."
      ]
    },
    {
      "cell_type": "code",
      "metadata": {
        "id": "u1842rSOOOyd",
        "colab": {
          "base_uri": "https://localhost:8080/"
        },
        "outputId": "3f139ee3-17e6-4333-cb9a-161b8a8a840d"
      },
      "source": [
        "for i, v in enumerate(['tic', 'tac', 'toe']):\n",
        "    print(i, v)"
      ],
      "execution_count": 54,
      "outputs": [
        {
          "output_type": "stream",
          "text": [
            "0 tic\n",
            "1 tac\n",
            "2 toe\n"
          ],
          "name": "stdout"
        }
      ]
    },
    {
      "cell_type": "markdown",
      "metadata": {
        "id": "mPm2bb58OOyf"
      },
      "source": [
        "To loop over two or more sequences at the same time, the entries can be paired using the **`zip()`** function."
      ]
    },
    {
      "cell_type": "code",
      "metadata": {
        "id": "frXzzRgeOOyg",
        "colab": {
          "base_uri": "https://localhost:8080/"
        },
        "outputId": "fdd11f04-9f5e-4018-c6f6-9d7b29aefab5"
      },
      "source": [
        "questions = ['name', 'quest', 'favorite color']\n",
        "answers = ['lancelot', 'the holy grail', 'blue']\n",
        "for q, a in zip(questions, answers):\n",
        "    print ('What is your {0}?  It is {1}.'.format(q, a))"
      ],
      "execution_count": 55,
      "outputs": [
        {
          "output_type": "stream",
          "text": [
            "What is your name?  It is lancelot.\n",
            "What is your quest?  It is the holy grail.\n",
            "What is your favorite color?  It is blue.\n"
          ],
          "name": "stdout"
        }
      ]
    },
    {
      "cell_type": "code",
      "metadata": {
        "id": "gCQgeN0uOOyh",
        "colab": {
          "base_uri": "https://localhost:8080/"
        },
        "outputId": "ddc2da40-3276-4bfc-c1c6-5f1f8f0e1ae9"
      },
      "source": [
        "names = ['Krishnan', 'Shafie', 'Kim Loong']\n",
        "grades = [99, 100, 89]\n",
        "\n",
        "for n, g in zip(names, grades):\n",
        "    print('{0}: {1}.'.format(n, g))"
      ],
      "execution_count": 56,
      "outputs": [
        {
          "output_type": "stream",
          "text": [
            "Krishnan: 99.\n",
            "Shafie: 100.\n",
            "Kim Loong: 89.\n"
          ],
          "name": "stdout"
        }
      ]
    },
    {
      "cell_type": "markdown",
      "metadata": {
        "id": "1s7hW55qOOyw"
      },
      "source": [
        "---\n",
        "# Section 3: Built-in data structures\n",
        "\n",
        "Python comes equipped with some useful built-in data structures. They include\n",
        "* List\n",
        "* Tuple\n",
        "* Set\n",
        "* Dictionary"
      ]
    },
    {
      "cell_type": "markdown",
      "metadata": {
        "id": "Dc3WeauW0bGE"
      },
      "source": [
        "\n",
        "\n",
        "## List\n",
        "\n",
        "A list is the simplest, most flexible and arguably the most frequently used  data structure in Python. It stores a sequence of mutable (changeable) items of possibly different types.\n",
        "\n",
        "**Create a new list**:"
      ]
    },
    {
      "cell_type": "code",
      "metadata": {
        "id": "343ww6JtOOyw",
        "colab": {
          "base_uri": "https://localhost:8080/"
        },
        "outputId": "0c5998f1-85f4-46a4-ffb1-89e287dffe3a"
      },
      "source": [
        "fruits = ['apple', 'orange', 'pear']   # a list of strings\n",
        "print(fruits)\n",
        "\n",
        "numbers = [11, 12, 13, 14]             # a list of integers\n",
        "print(numbers)\n",
        "\n",
        "isHandsome = [True, False, True]       # a list of booleans\n",
        "print(isHandsome)\n",
        "\n",
        "rojak = [11, 'hello', True, [1,2,3], ['one', 2, False]]     # a list of different types of items\n",
        "print(rojak)"
      ],
      "execution_count": 57,
      "outputs": [
        {
          "output_type": "stream",
          "text": [
            "['apple', 'orange', 'pear']\n",
            "[11, 12, 13, 14]\n",
            "[True, False, True]\n",
            "[11, 'hello', True, [1, 2, 3], ['one', 2, False]]\n"
          ],
          "name": "stdout"
        }
      ]
    },
    {
      "cell_type": "markdown",
      "metadata": {
        "id": "hRALLCMWOOyx"
      },
      "source": [
        "**Get the length of a list**:"
      ]
    },
    {
      "cell_type": "code",
      "metadata": {
        "id": "7gXVTu_ZOOyy",
        "colab": {
          "base_uri": "https://localhost:8080/"
        },
        "outputId": "4e11cc67-7c70-4ffe-ee62-14db5d081de3"
      },
      "source": [
        "len(numbers)   "
      ],
      "execution_count": 58,
      "outputs": [
        {
          "output_type": "execute_result",
          "data": {
            "text/plain": [
              "4"
            ]
          },
          "metadata": {
            "tags": []
          },
          "execution_count": 58
        }
      ]
    },
    {
      "cell_type": "markdown",
      "metadata": {
        "id": "JQ_BPrjlOOy1"
      },
      "source": [
        "**Iterate all items in a list**:"
      ]
    },
    {
      "cell_type": "code",
      "metadata": {
        "id": "t0_Tv9LbOOy1",
        "colab": {
          "base_uri": "https://localhost:8080/"
        },
        "outputId": "e4d61e8e-63f6-4d2b-f778-1b10ced30f27"
      },
      "source": [
        "numbers = [11, 12, 13, 14]\n",
        "for x in numbers:\n",
        "    print(x)"
      ],
      "execution_count": 59,
      "outputs": [
        {
          "output_type": "stream",
          "text": [
            "11\n",
            "12\n",
            "13\n",
            "14\n"
          ],
          "name": "stdout"
        }
      ]
    },
    {
      "cell_type": "markdown",
      "metadata": {
        "id": "c6E0BZDbOOy3"
      },
      "source": [
        "**Unpack the values in a list into individual variables:** "
      ]
    },
    {
      "cell_type": "code",
      "metadata": {
        "id": "tENSY0EvOOy3",
        "colab": {
          "base_uri": "https://localhost:8080/"
        },
        "outputId": "d125d2f8-0743-4b33-a02f-a0531152cfe7"
      },
      "source": [
        "a, b, c = fruits\n",
        "print(a)\n",
        "print(b)\n",
        "print(c)"
      ],
      "execution_count": 60,
      "outputs": [
        {
          "output_type": "stream",
          "text": [
            "apple\n",
            "orange\n",
            "pear\n"
          ],
          "name": "stdout"
        }
      ]
    },
    {
      "cell_type": "markdown",
      "metadata": {
        "id": "vAR56-JeOOy5"
      },
      "source": [
        "**Concatenate multiple lists**\n",
        "\n",
        "Use the `+` operator to do list concatenation:"
      ]
    },
    {
      "cell_type": "code",
      "metadata": {
        "id": "j2g2L_JtOOy5",
        "colab": {
          "base_uri": "https://localhost:8080/"
        },
        "outputId": "8936e487-8b9d-4424-9fb6-c8937337eaf1"
      },
      "source": [
        "fruits = ['apple', 'orange', 'pear']\n",
        "print(fruits)\n",
        "\n",
        "otherFruits = ['kiwi', 'strawberry']\n",
        "print(otherFruits)\n",
        "\n",
        "allFruits = fruits + otherFruits\n",
        "print(allFruits)"
      ],
      "execution_count": 61,
      "outputs": [
        {
          "output_type": "stream",
          "text": [
            "['apple', 'orange', 'pear']\n",
            "['kiwi', 'strawberry']\n",
            "['apple', 'orange', 'pear', 'kiwi', 'strawberry']\n"
          ],
          "name": "stdout"
        }
      ]
    },
    {
      "cell_type": "markdown",
      "metadata": {
        "id": "G6NCThx6OOy8"
      },
      "source": [
        "**Access a specific item in the list**:"
      ]
    },
    {
      "cell_type": "code",
      "metadata": {
        "id": "jKyjaqniOOy8",
        "colab": {
          "base_uri": "https://localhost:8080/",
          "height": 36
        },
        "outputId": "93e13c33-314a-46f9-e0cb-10d9b4080e6f"
      },
      "source": [
        "fruits[0]            # first item of fruits"
      ],
      "execution_count": 62,
      "outputs": [
        {
          "output_type": "execute_result",
          "data": {
            "application/vnd.google.colaboratory.intrinsic+json": {
              "type": "string"
            },
            "text/plain": [
              "'apple'"
            ]
          },
          "metadata": {
            "tags": []
          },
          "execution_count": 62
        }
      ]
    },
    {
      "cell_type": "code",
      "metadata": {
        "id": "9TNKlRaZOOy-",
        "colab": {
          "base_uri": "https://localhost:8080/"
        },
        "outputId": "d9385eb3-704a-444c-b40f-d4c45d255cbb"
      },
      "source": [
        "fruits[0] = 'durian'\n",
        "fruits"
      ],
      "execution_count": 63,
      "outputs": [
        {
          "output_type": "execute_result",
          "data": {
            "text/plain": [
              "['durian', 'orange', 'pear']"
            ]
          },
          "metadata": {
            "tags": []
          },
          "execution_count": 63
        }
      ]
    },
    {
      "cell_type": "code",
      "metadata": {
        "id": "zGXoZqntOOzD",
        "colab": {
          "base_uri": "https://localhost:8080/"
        },
        "outputId": "86ed8244-a4ce-4aef-a46d-33af043fdc36"
      },
      "source": [
        "rojak[3]"
      ],
      "execution_count": 64,
      "outputs": [
        {
          "output_type": "execute_result",
          "data": {
            "text/plain": [
              "[1, 2, 3]"
            ]
          },
          "metadata": {
            "tags": []
          },
          "execution_count": 64
        }
      ]
    },
    {
      "cell_type": "code",
      "metadata": {
        "id": "GyhxhlcqOOzG",
        "colab": {
          "base_uri": "https://localhost:8080/"
        },
        "outputId": "07715a04-5212-4cab-c516-2f068d28d1d4"
      },
      "source": [
        "rojak[3] = 'new item'\n",
        "rojak"
      ],
      "execution_count": 65,
      "outputs": [
        {
          "output_type": "execute_result",
          "data": {
            "text/plain": [
              "[11, 'hello', True, 'new item', ['one', 2, False]]"
            ]
          },
          "metadata": {
            "tags": []
          },
          "execution_count": 65
        }
      ]
    },
    {
      "cell_type": "markdown",
      "metadata": {
        "id": "JqIEQnmOOOzH"
      },
      "source": [
        "**Slice indexing (creating a sublist):**\n",
        "\n",
        "We can index multiple adjacent elements using the slice operator. For instance, `fruits[1:3]` returns a list containing the elements at position 1 and 2. In general `fruits[start:stop]` will get the elements in `start`, `start`+1, ..., `stop`-1. We can also do `fruits[start:]` which returns all elements starting from the start index. Also `fruits[:end]` will return all elements before the element at position end:"
      ]
    },
    {
      "cell_type": "code",
      "metadata": {
        "id": "IhiqZ6xJOOzH",
        "colab": {
          "base_uri": "https://localhost:8080/"
        },
        "outputId": "e2d3f897-0270-4367-9dd3-2e32d5a0bca2"
      },
      "source": [
        "print(allFruits)    # print all items\n",
        "\n",
        "print(allFruits[0:2])  # items 0 and 1 (not including 2)\n",
        "print(allFruits[:3])   # first item to item 2 (not including 3)\n",
        "print(allFruits[2:])   # items 2 to last item"
      ],
      "execution_count": 66,
      "outputs": [
        {
          "output_type": "stream",
          "text": [
            "['apple', 'orange', 'pear', 'kiwi', 'strawberry']\n",
            "['apple', 'orange']\n",
            "['apple', 'orange', 'pear']\n",
            "['pear', 'kiwi', 'strawberry']\n"
          ],
          "name": "stdout"
        }
      ]
    },
    {
      "cell_type": "markdown",
      "metadata": {
        "id": "JvTn1y9ROOzI"
      },
      "source": [
        "**Negative indexing:**\n",
        "\n",
        "Python also allows negative-indexing from the back of the list. For instance, `allfruits[-1]` will access the last element `'strawberry'`:"
      ]
    },
    {
      "cell_type": "code",
      "metadata": {
        "id": "yBPLSC6qOOzJ",
        "colab": {
          "base_uri": "https://localhost:8080/",
          "height": 55
        },
        "outputId": "448ae5e9-51a6-4554-e81b-9705e484a770"
      },
      "source": [
        "print(allFruits)\n",
        "allFruits[-1]"
      ],
      "execution_count": 67,
      "outputs": [
        {
          "output_type": "stream",
          "text": [
            "['apple', 'orange', 'pear', 'kiwi', 'strawberry']\n"
          ],
          "name": "stdout"
        },
        {
          "output_type": "execute_result",
          "data": {
            "application/vnd.google.colaboratory.intrinsic+json": {
              "type": "string"
            },
            "text/plain": [
              "'strawberry'"
            ]
          },
          "metadata": {
            "tags": []
          },
          "execution_count": 67
        }
      ]
    },
    {
      "cell_type": "markdown",
      "metadata": {
        "id": "3WVEEVu-OOzK"
      },
      "source": [
        "The following codes combine negative indexing and slice indexing"
      ]
    },
    {
      "cell_type": "code",
      "metadata": {
        "id": "NJygVF-7OOzK",
        "colab": {
          "base_uri": "https://localhost:8080/"
        },
        "outputId": "431789f8-74bf-43c0-aab8-afedc6632b60"
      },
      "source": [
        "allFruits[-3:]       # Start from the third last item to the end of the list"
      ],
      "execution_count": 68,
      "outputs": [
        {
          "output_type": "execute_result",
          "data": {
            "text/plain": [
              "['pear', 'kiwi', 'strawberry']"
            ]
          },
          "metadata": {
            "tags": []
          },
          "execution_count": 68
        }
      ]
    },
    {
      "cell_type": "code",
      "metadata": {
        "id": "UFvjTbrIOOzO",
        "colab": {
          "base_uri": "https://localhost:8080/"
        },
        "outputId": "1c503ba3-c912-421c-aaae-69b9b35e4939"
      },
      "source": [
        "allFruits[-3:-1]     # Start from the third last item to the second last item of the list"
      ],
      "execution_count": 69,
      "outputs": [
        {
          "output_type": "execute_result",
          "data": {
            "text/plain": [
              "['pear', 'kiwi']"
            ]
          },
          "metadata": {
            "tags": []
          },
          "execution_count": 69
        }
      ]
    },
    {
      "cell_type": "markdown",
      "metadata": {
        "id": "c4t8E_xlOOzP"
      },
      "source": [
        "**Reference copy of a list:**\n",
        "\n",
        "For list, the assignment operator `=` only copy the address of the source. This means that it is *pointing* or *referencing* to the same object as the source. \n",
        "\n",
        "For example:"
      ]
    },
    {
      "cell_type": "code",
      "metadata": {
        "id": "KnfXWn8XOOzR",
        "colab": {
          "base_uri": "https://localhost:8080/"
        },
        "outputId": "c048f5de-76c8-4b9c-cef8-cc04389593ff"
      },
      "source": [
        "colors1 = [\"red\", \"green\"]\n",
        "colors2 = colors1\n",
        "print('colors1 = ', colors1)\n",
        "print('colors2 = ', colors2)"
      ],
      "execution_count": 70,
      "outputs": [
        {
          "output_type": "stream",
          "text": [
            "colors1 =  ['red', 'green']\n",
            "colors2 =  ['red', 'green']\n"
          ],
          "name": "stdout"
        }
      ]
    },
    {
      "cell_type": "markdown",
      "metadata": {
        "id": "qNeQh3dWOOzR"
      },
      "source": [
        "The above results in the following structure:\n",
        "\n",
        "![referencecopy figure](data:image/png;base64,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)\n",
        "\n",
        "Since they point to the same list, any changes to either `color1` or `color2` would affect the other."
      ]
    },
    {
      "cell_type": "code",
      "metadata": {
        "id": "aVKaqbbEOOzR",
        "colab": {
          "base_uri": "https://localhost:8080/"
        },
        "outputId": "07cf01ab-2715-4285-a274-7040dbcb2a11"
      },
      "source": [
        "print('Changing colors2 second element to blue')\n",
        "colors2[1] = 'blue'            # changing the content of the second item in colors2\n",
        "\n",
        "print ('colors1 = ', colors1)  # colors1 changes too because of shallow copy\n",
        "print ('colors2 = ', colors2)"
      ],
      "execution_count": 71,
      "outputs": [
        {
          "output_type": "stream",
          "text": [
            "Changing colors2 second element to blue\n",
            "colors1 =  ['red', 'blue']\n",
            "colors2 =  ['red', 'blue']\n"
          ],
          "name": "stdout"
        }
      ]
    },
    {
      "cell_type": "markdown",
      "metadata": {
        "id": "C8JiijRiOOzU"
      },
      "source": [
        "**Shallow copy of a list:**\n",
        "\n",
        "The method `.copy()` performs a shallow copy where only the content of the shallowest level are copied. "
      ]
    },
    {
      "cell_type": "code",
      "metadata": {
        "id": "_M7oFbMjOOzV",
        "colab": {
          "base_uri": "https://localhost:8080/"
        },
        "outputId": "ba0a3ca5-7ccb-4d71-dafe-0497f5454486"
      },
      "source": [
        "list1 = ['a', 'b', ['ab', 'ba']]    # list is shallow - contains only one level\n",
        "list2 = list1.copy()                # copy list\n",
        "print(list1)\n",
        "print(list2)"
      ],
      "execution_count": 72,
      "outputs": [
        {
          "output_type": "stream",
          "text": [
            "['a', 'b', ['ab', 'ba']]\n",
            "['a', 'b', ['ab', 'ba']]\n"
          ],
          "name": "stdout"
        }
      ]
    },
    {
      "cell_type": "markdown",
      "metadata": {
        "id": "Ifog7tuFOOzW"
      },
      "source": [
        "The above command results in the following structure:\n",
        "\n",
        "![shallowcopy figure](data:image/png;base64,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)"
      ]
    },
    {
      "cell_type": "markdown",
      "metadata": {
        "id": "dRLiLSRMOOzW"
      },
      "source": [
        "From the figure, it is easy to see why changing the content of the shallow items of one array would not have affect the other array. But, any changes to non-shallow items will affect both arrays"
      ]
    },
    {
      "cell_type": "code",
      "metadata": {
        "id": "ruM6eGmYOOzW",
        "colab": {
          "base_uri": "https://localhost:8080/"
        },
        "outputId": "b733b562-401f-4591-845d-81b79e5f9e14"
      },
      "source": [
        "list2[1] = 'x'      # changing a shallow item in list 2  will not affect list1\n",
        "list2[2][1] = 'zz'  # changing a non-shallow item in list2 will also affect list1\n",
        "print(list1)\n",
        "print(list2)"
      ],
      "execution_count": 73,
      "outputs": [
        {
          "output_type": "stream",
          "text": [
            "['a', 'b', ['ab', 'zz']]\n",
            "['a', 'x', ['ab', 'zz']]\n"
          ],
          "name": "stdout"
        }
      ]
    },
    {
      "cell_type": "markdown",
      "metadata": {
        "id": "Hl6fclJnOOzY"
      },
      "source": [
        "**Deep copy of list:**\n",
        "\n",
        "To copy the entire structure, we can use the module function `copy.deepcopy`."
      ]
    },
    {
      "cell_type": "code",
      "metadata": {
        "id": "CY7WU6TrOOzZ"
      },
      "source": [
        "from copy import deepcopy\n",
        "\n",
        "lst1 = ['a','b',['ab','ba']]\n",
        "lst2 = deepcopy(lst1)   # slice copying\n"
      ],
      "execution_count": 74,
      "outputs": []
    },
    {
      "cell_type": "code",
      "metadata": {
        "id": "F9Popq8lOOzb",
        "colab": {
          "base_uri": "https://localhost:8080/"
        },
        "outputId": "2d6ff791-6258-45f4-c859-4531b6cb15c9"
      },
      "source": [
        "lst2[0] = 'c'\n",
        "lst2[2][1] = 'd'\n",
        "print('lst1: ', lst1)\n",
        "print('lst2: ', lst2)"
      ],
      "execution_count": 75,
      "outputs": [
        {
          "output_type": "stream",
          "text": [
            "lst1:  ['a', 'b', ['ab', 'ba']]\n",
            "lst2:  ['c', 'b', ['ab', 'd']]\n"
          ],
          "name": "stdout"
        }
      ]
    },
    {
      "cell_type": "markdown",
      "metadata": {
        "id": "7mb62gPfOOzc"
      },
      "source": [
        "### List comparison\n",
        "There are two operators for comparison in Python: `==` and `is`. \n",
        "\n",
        "The operator `is` checks if two variables are referencing the same list or object, while the operator `==` checks if the lists have the same content.\n",
        "\n",
        "For *reference copy*, both `is` and `==` return `True` because they references the same list or object."
      ]
    },
    {
      "cell_type": "code",
      "metadata": {
        "id": "ZST-3nKkOOze",
        "colab": {
          "base_uri": "https://localhost:8080/"
        },
        "outputId": "75060e7b-fc9f-4312-ef04-58aaa8bb5bd3"
      },
      "source": [
        "a = [1, 2, 3]\n",
        "b = a\n",
        "print(b is a)\n",
        "print(b == a)"
      ],
      "execution_count": 76,
      "outputs": [
        {
          "output_type": "stream",
          "text": [
            "True\n",
            "True\n"
          ],
          "name": "stdout"
        }
      ]
    },
    {
      "cell_type": "markdown",
      "metadata": {
        "id": "wMWUvbVKOOzf"
      },
      "source": [
        "For *shallow copy* and *deep copy*,\n",
        "* `is` returns `False` because they are pointing to different lists or objects.\n",
        "* `==` returns `True` because their content are the same."
      ]
    },
    {
      "cell_type": "code",
      "metadata": {
        "id": "SMxoHXclOOzf",
        "colab": {
          "base_uri": "https://localhost:8080/"
        },
        "outputId": "6cf51a1d-0315-428e-9fd5-fc85cd0d3f57"
      },
      "source": [
        "b = a.copy()\n",
        "print(b is a)\n",
        "print(b == a)"
      ],
      "execution_count": 77,
      "outputs": [
        {
          "output_type": "stream",
          "text": [
            "False\n",
            "True\n"
          ],
          "name": "stdout"
        }
      ]
    },
    {
      "cell_type": "code",
      "metadata": {
        "id": "aFbQIuJaOOzg",
        "colab": {
          "base_uri": "https://localhost:8080/"
        },
        "outputId": "d2d2656c-a4a2-4861-ad92-eee50ccd32a1"
      },
      "source": [
        "from copy import deepcopy\n",
        "c = deepcopy(a)\n",
        "print(b is a)\n",
        "print(b == a)"
      ],
      "execution_count": 78,
      "outputs": [
        {
          "output_type": "stream",
          "text": [
            "False\n",
            "True\n"
          ],
          "name": "stdout"
        }
      ]
    },
    {
      "cell_type": "markdown",
      "metadata": {
        "id": "nosy-jlAOOzi"
      },
      "source": [
        "### Quick reference to useful functions for list\n",
        "\n",
        "**`list.append(x)`**: Add an item to the end of the list; equivalent to `a[len(a):] = [x]`<br>\n",
        "**`list.extend(x)`**: Extend the list by appending all the items in the given list; equivalent to `a[len(a):] = L`.<br>\n",
        "**`list.insert(i, x)`**: Insert the item x at position i. The first argument is the index of the element before which to insert, so `a.insert(0, x)` inserts at the front of the list, and `a.insert(len(a), x)` is equivalent to `a.append(x)`.<br>\n",
        "**`list.remove(x)`**: Remove the first item from the list whose value is `x` . It is an error if there is no such item.<br>\n",
        "**`list.pop(i)`**: Remove the item at the given position in the list, and return it. If no index is specified, `a.pop()` removes and returns the last item in the list.<br>\n",
        "**`list.index(x)`**: Return the index in the list of the first item whose value is `x`. It is an error if there is no such item.<br>\n",
        "**`List.count(x)`**: Return the number of times `x` appears in the list.<br>\n",
        "**`list.sort(key=None, reverse=False)`**: Sort the items of the list in place.<br>\n",
        "**`list.reverse()`**: Reverse the elements of the list, in place.<br>\n",
        "**`len(list)`**: Returns the number of items in the sequence.<br>\n",
        "**`min(list)`**: Returns the smallest item in the sequence.<br>\n",
        "**`max(list)`**: Returns the biggest item in the sequence.<br>\n",
        "**`any(list)`**: Returns `True` if there exists an item in the sequence which is `True`.<br>\n",
        "**`all(list)`**: Returns `True` if all items in the seuqnece are True.<br>\n"
      ]
    },
    {
      "cell_type": "markdown",
      "metadata": {
        "id": "HtTgCpqxOOzn"
      },
      "source": [
        "---\n",
        "## Tuple\n",
        "\n",
        "A tuple is a data structure that is similar to the list except that it is immutable once it is created, i.e., you cannot change its content once created. It takes up less memory for the same number of items compared to list. So, it is advisable to use tuples compared to list if possible. \n",
        "\n",
        "To **create a tuple**, use a parentheses rather than a square brackets."
      ]
    },
    {
      "cell_type": "code",
      "metadata": {
        "id": "mwJdfgKuOOzn",
        "colab": {
          "base_uri": "https://localhost:8080/"
        },
        "outputId": "190c0b61-8004-406e-8426-e0e21cc04fb1"
      },
      "source": [
        "pair = (3,5)\n",
        "print(pair)\n",
        "print(pair[0])"
      ],
      "execution_count": 79,
      "outputs": [
        {
          "output_type": "stream",
          "text": [
            "(3, 5)\n",
            "3\n"
          ],
          "name": "stdout"
        }
      ]
    },
    {
      "cell_type": "markdown",
      "metadata": {
        "id": "7AjU_nl3OOzr"
      },
      "source": [
        "The attempt to modify an immutable structure will raise an exception. Exceptions indicate errors: index out of bounds errors, type errors, and so on will all report exceptions in this way."
      ]
    },
    {
      "cell_type": "code",
      "metadata": {
        "id": "F9Onj6S-OOzr",
        "colab": {
          "base_uri": "https://localhost:8080/",
          "height": 174
        },
        "outputId": "5d9c4b12-98bf-4657-eb62-a27fbe1d2183"
      },
      "source": [
        "pair[1] = 6"
      ],
      "execution_count": 80,
      "outputs": [
        {
          "output_type": "error",
          "ename": "TypeError",
          "evalue": "ignored",
          "traceback": [
            "\u001b[0;31m---------------------------------------------------------------------------\u001b[0m",
            "\u001b[0;31mTypeError\u001b[0m                                 Traceback (most recent call last)",
            "\u001b[0;32m<ipython-input-80-392fbb166e50>\u001b[0m in \u001b[0;36m<module>\u001b[0;34m()\u001b[0m\n\u001b[0;32m----> 1\u001b[0;31m \u001b[0mpair\u001b[0m\u001b[0;34m[\u001b[0m\u001b[0;36m1\u001b[0m\u001b[0;34m]\u001b[0m \u001b[0;34m=\u001b[0m \u001b[0;36m6\u001b[0m\u001b[0;34m\u001b[0m\u001b[0;34m\u001b[0m\u001b[0m\n\u001b[0m",
            "\u001b[0;31mTypeError\u001b[0m: 'tuple' object does not support item assignment"
          ]
        }
      ]
    },
    {
      "cell_type": "markdown",
      "metadata": {
        "id": "84Rj4ukDOOzr"
      },
      "source": [
        "---\n",
        "## Set\n",
        "\n",
        "A set is like a list, but allows **no duplicate items**. Common set operations (difference, intersection, union) are available for the data structure.\n",
        "\n",
        "**Create a new set from list**:"
      ]
    },
    {
      "cell_type": "code",
      "metadata": {
        "id": "LoDck_65OOzr",
        "colab": {
          "base_uri": "https://localhost:8080/"
        },
        "outputId": "2c7267df-52ba-42a8-9ca4-73cd2cec9552"
      },
      "source": [
        "user_selected_shapes = ['circle', 'square', 'triangle', 'circle']\n",
        "shapes = set(user_selected_shapes)\n",
        "shapes"
      ],
      "execution_count": 81,
      "outputs": [
        {
          "output_type": "execute_result",
          "data": {
            "text/plain": [
              "{'circle', 'square', 'triangle'}"
            ]
          },
          "metadata": {
            "tags": []
          },
          "execution_count": 81
        }
      ]
    },
    {
      "cell_type": "markdown",
      "metadata": {
        "id": "awEbRqdGOOzs"
      },
      "source": [
        "**Insert new items into a set**:"
      ]
    },
    {
      "cell_type": "code",
      "metadata": {
        "id": "OlcPRk3MOOzs",
        "colab": {
          "base_uri": "https://localhost:8080/"
        },
        "outputId": "67f91ca7-793c-4014-f785-ba861237e9a5"
      },
      "source": [
        "print(\"Adding pentagon\")\n",
        "shapes.add('pentagon') \n",
        "print(shapes)\n",
        "print(\"Adding circle\")\n",
        "shapes.add('circle')\n",
        "print(shapes)\n",
        "print(\"Adding triangle\")\n",
        "shapes.add('triangle')\n",
        "print(shapes)\n",
        "\n"
      ],
      "execution_count": 82,
      "outputs": [
        {
          "output_type": "stream",
          "text": [
            "Adding pentagon\n",
            "{'triangle', 'pentagon', 'circle', 'square'}\n",
            "Adding circle\n",
            "{'triangle', 'pentagon', 'circle', 'square'}\n",
            "Adding triangle\n",
            "{'triangle', 'pentagon', 'circle', 'square'}\n"
          ],
          "name": "stdout"
        }
      ]
    },
    {
      "cell_type": "markdown",
      "metadata": {
        "id": "rlzWWU9vOOzx"
      },
      "source": [
        "**Check if exist in set**:"
      ]
    },
    {
      "cell_type": "code",
      "metadata": {
        "id": "w-dJZCazOOzx",
        "colab": {
          "base_uri": "https://localhost:8080/"
        },
        "outputId": "d955a9b7-9d9a-4b22-ef8f-f0625a04d91a"
      },
      "source": [
        "if 'circle' in shapes:\n",
        "    print('circle exists in shapes')\n",
        "else:\n",
        "    print('circle does not exist in shapes')\n",
        "    \n",
        "if 'rhombus' in shapes:\n",
        "    print('rhombus exists in shapes')\n",
        "else:\n",
        "    print('rhombus does not exist in shapes')\n",
        "    "
      ],
      "execution_count": 83,
      "outputs": [
        {
          "output_type": "stream",
          "text": [
            "circle exists in shapes\n",
            "rhombus does not exist in shapes\n"
          ],
          "name": "stdout"
        }
      ]
    },
    {
      "cell_type": "markdown",
      "metadata": {
        "id": "hexl9ccGOOzy"
      },
      "source": [
        "**Operations on set**:\n",
        "\n",
        "The following shows how to perform intersection (`&`), union (`|`) and deletion (`-`) operation on two sets."
      ]
    },
    {
      "cell_type": "code",
      "metadata": {
        "id": "fFBhg8DVOOzz",
        "colab": {
          "base_uri": "https://localhost:8080/"
        },
        "outputId": "8087cb61-578b-4a41-cf04-8405132ab6ef"
      },
      "source": [
        "polygons = set(['triangle', 'square', 'hexagon', 'pentagon'])\n",
        "print ('shapes:   ', shapes)\n",
        "print ('polygons: ', polygons)\n",
        "print ()\n",
        "\n",
        "print('shapes minus polygons:', shapes - polygons)\n",
        "print('shapes intersect polygons:', shapes & polygons)\n",
        "print('shapes union polygons:', shapes | polygons)"
      ],
      "execution_count": 84,
      "outputs": [
        {
          "output_type": "stream",
          "text": [
            "shapes:    {'triangle', 'pentagon', 'circle', 'square'}\n",
            "polygons:  {'hexagon', 'triangle', 'pentagon', 'square'}\n",
            "\n",
            "shapes minus polygons: {'circle'}\n",
            "shapes intersect polygons: {'triangle', 'pentagon', 'square'}\n",
            "shapes union polygons: {'pentagon', 'square', 'hexagon', 'triangle', 'circle'}\n"
          ],
          "name": "stdout"
        }
      ]
    },
    {
      "cell_type": "markdown",
      "metadata": {
        "id": "IGk6izvIOOz1"
      },
      "source": [
        "---\n",
        "## Dictionary\n",
        "\n",
        "The dictionary is arguably the second most commonly used data structure in Python. A dictionary stores a map from one type of object (the `key`) to another (the `value`). \n",
        "* The `key` must be of an immutable type (string, number, or tuple). \n",
        "* The `value` can be of any Python data type (objects, lists, dictionaries, etc).\n",
        "\n"
      ]
    },
    {
      "cell_type": "markdown",
      "metadata": {
        "id": "HqZ_DaY_L5xh"
      },
      "source": [
        "**Creating a dictionary**:\n",
        "\n",
        "There are many ways to create a dictionary. \n",
        "The standard way is to use the curly bracket `{}`."
      ]
    },
    {
      "cell_type": "code",
      "metadata": {
        "id": "HYPvz_xvOOz1",
        "colab": {
          "base_uri": "https://localhost:8080/"
        },
        "outputId": "bc07b5fb-1c2e-4157-c619-452ba62e1c75"
      },
      "source": [
        "studentIds = {'joe': 10491, 'mary': 10489}\n",
        "studentIds"
      ],
      "execution_count": 85,
      "outputs": [
        {
          "output_type": "execute_result",
          "data": {
            "text/plain": [
              "{'joe': 10491, 'mary': 10489}"
            ]
          },
          "metadata": {
            "tags": []
          },
          "execution_count": 85
        }
      ]
    },
    {
      "cell_type": "markdown",
      "metadata": {
        "id": "eyt3dmtBOOz3"
      },
      "source": [
        "Another way is to pass a list of tuples to the dict constructor:"
      ]
    },
    {
      "cell_type": "code",
      "metadata": {
        "id": "2Qg1ibq4OOz3",
        "colab": {
          "base_uri": "https://localhost:8080/"
        },
        "outputId": "51f9035a-a8a1-48a2-98f8-65e8ccce4976"
      },
      "source": [
        "d1 = dict([('sape', 4139), ('guido', 4127), ('jack', 4098)])\n",
        "d1"
      ],
      "execution_count": 86,
      "outputs": [
        {
          "output_type": "execute_result",
          "data": {
            "text/plain": [
              "{'guido': 4127, 'jack': 4098, 'sape': 4139}"
            ]
          },
          "metadata": {
            "tags": []
          },
          "execution_count": 86
        }
      ]
    },
    {
      "cell_type": "markdown",
      "metadata": {
        "id": "6hmsFWzDOOz5"
      },
      "source": [
        "\n",
        "Yet another way is to pass keyword arguments to the dict constructor:"
      ]
    },
    {
      "cell_type": "code",
      "metadata": {
        "id": "gJl3ft3FOOz5",
        "colab": {
          "base_uri": "https://localhost:8080/"
        },
        "outputId": "9d92e3e4-9a2f-45e8-9bde-eb8422095daf"
      },
      "source": [
        "d2 = dict(sape=4139, guido=4127, jack=4098)\n",
        "d2"
      ],
      "execution_count": 87,
      "outputs": [
        {
          "output_type": "execute_result",
          "data": {
            "text/plain": [
              "{'guido': 4127, 'jack': 4098, 'sape': 4139}"
            ]
          },
          "metadata": {
            "tags": []
          },
          "execution_count": 87
        }
      ]
    },
    {
      "cell_type": "markdown",
      "metadata": {
        "id": "fI7E_g6yOOz6"
      },
      "source": [
        "Lastly, you can also use two different lists, one for keys and the other for values. Then, we can construct the dictionary using list comprehensions (which we will cover next)."
      ]
    },
    {
      "cell_type": "code",
      "metadata": {
        "id": "46bJOThGOOz6",
        "colab": {
          "base_uri": "https://localhost:8080/"
        },
        "outputId": "5adda86b-dc82-44b4-8700-326a90e152ae"
      },
      "source": [
        "namelist = ['joe', 'mary']\n",
        "ids = [10491, 10489]\n",
        "d3 = {name: age for name, age in zip(namelist, ids)}   # list comprehension\n",
        "d3"
      ],
      "execution_count": 88,
      "outputs": [
        {
          "output_type": "execute_result",
          "data": {
            "text/plain": [
              "{'joe': 10491, 'mary': 10489}"
            ]
          },
          "metadata": {
            "tags": []
          },
          "execution_count": 88
        }
      ]
    },
    {
      "cell_type": "markdown",
      "metadata": {
        "id": "w0sNnmEMOOz8"
      },
      "source": [
        "\n",
        "**Indexing an item in dictionary**:"
      ]
    },
    {
      "cell_type": "code",
      "metadata": {
        "id": "jzry1JJrOOz8",
        "colab": {
          "base_uri": "https://localhost:8080/"
        },
        "outputId": "9a09464c-f045-4647-ed93-53b4f3316c16"
      },
      "source": [
        "studentIds = {'joe': 42.0, 'mary': 56.0}\n",
        "print (studentIds)\n",
        "\n",
        "# accessing the item with key 'mary'\n",
        "print(studentIds['mary'])\n",
        "\n",
        "\n",
        "# Changing the item with key 'mary'\n",
        "studentIds['mary'] = 100\n",
        "print(studentIds)"
      ],
      "execution_count": 89,
      "outputs": [
        {
          "output_type": "stream",
          "text": [
            "{'joe': 42.0, 'mary': 56.0}\n",
            "56.0\n",
            "{'joe': 42.0, 'mary': 100}\n"
          ],
          "name": "stdout"
        }
      ]
    },
    {
      "cell_type": "markdown",
      "metadata": {
        "id": "W25KrW6ROOz-"
      },
      "source": [
        "**Adding an item in dictionary**:"
      ]
    },
    {
      "cell_type": "code",
      "metadata": {
        "id": "NylNOSLfOOz-",
        "colab": {
          "base_uri": "https://localhost:8080/"
        },
        "outputId": "c2d7d34e-3f6a-4f4a-c153-245334f2effb"
      },
      "source": [
        "studentIds['ali'] = 92.0\n",
        "studentIds"
      ],
      "execution_count": 90,
      "outputs": [
        {
          "output_type": "execute_result",
          "data": {
            "text/plain": [
              "{'ali': 92.0, 'joe': 42.0, 'mary': 100}"
            ]
          },
          "metadata": {
            "tags": []
          },
          "execution_count": 90
        }
      ]
    },
    {
      "cell_type": "markdown",
      "metadata": {
        "id": "kqWbS9QNOOz_"
      },
      "source": [
        "**The values can be of different types**:"
      ]
    },
    {
      "cell_type": "code",
      "metadata": {
        "id": "sn2kHHnwOOz_",
        "colab": {
          "base_uri": "https://localhost:8080/"
        },
        "outputId": "492b86f0-198f-4996-c281-289ea13e16f1"
      },
      "source": [
        "studentIds['joe'] = 'forty-two'         # string type\n",
        "print(studentIds)\n",
        "\n",
        "studentIds['ali'] = [42.0,'forty-two']  # list type\n",
        "print(studentIds)"
      ],
      "execution_count": 91,
      "outputs": [
        {
          "output_type": "stream",
          "text": [
            "{'joe': 'forty-two', 'mary': 100, 'ali': 92.0}\n",
            "{'joe': 'forty-two', 'mary': 100, 'ali': [42.0, 'forty-two']}\n"
          ],
          "name": "stdout"
        }
      ]
    },
    {
      "cell_type": "markdown",
      "metadata": {
        "id": "CVQcJVh3OO0B"
      },
      "source": [
        "**Getting the size of a dictionary**:"
      ]
    },
    {
      "cell_type": "code",
      "metadata": {
        "id": "D67GwX9KOO0B",
        "colab": {
          "base_uri": "https://localhost:8080/"
        },
        "outputId": "7c82d142-1bb2-46b8-e5d1-8bd3a2354fb1"
      },
      "source": [
        "len(studentIds)"
      ],
      "execution_count": 92,
      "outputs": [
        {
          "output_type": "execute_result",
          "data": {
            "text/plain": [
              "3"
            ]
          },
          "metadata": {
            "tags": []
          },
          "execution_count": 92
        }
      ]
    },
    {
      "cell_type": "markdown",
      "metadata": {
        "id": "EkVMWEzvOO0C"
      },
      "source": [
        "**Accessing the keys and values in dictionary**:\n",
        "\n",
        "*(Note that the order of the keys returned may be different from the order in which the keys are created.)*"
      ]
    },
    {
      "cell_type": "code",
      "metadata": {
        "id": "vSqAj-woOO0C",
        "colab": {
          "base_uri": "https://localhost:8080/"
        },
        "outputId": "d992bb6e-3e75-47f1-d9b0-072721f8a76d"
      },
      "source": [
        "print(studentIds.keys())\n",
        "print(studentIds.values())"
      ],
      "execution_count": 93,
      "outputs": [
        {
          "output_type": "stream",
          "text": [
            "dict_keys(['joe', 'mary', 'ali'])\n",
            "dict_values(['forty-two', 100, [42.0, 'forty-two']])\n"
          ],
          "name": "stdout"
        }
      ]
    },
    {
      "cell_type": "markdown",
      "metadata": {
        "id": "_w6swSvYOO0G"
      },
      "source": [
        "**Converting the dict_keys and dict_values directly to list**:"
      ]
    },
    {
      "cell_type": "code",
      "metadata": {
        "id": "P1hO42x1OO0H",
        "colab": {
          "base_uri": "https://localhost:8080/"
        },
        "outputId": "9c373ab8-51ed-4adc-f278-db0a2ea4f6ae"
      },
      "source": [
        "print(list(studentIds.keys()))\n",
        "for k in list(studentIds.keys()):\n",
        "    print(k)\n",
        "\n",
        "print(list(studentIds.values()))\n",
        "for v in list(studentIds.values()):\n",
        "    print(v)"
      ],
      "execution_count": 94,
      "outputs": [
        {
          "output_type": "stream",
          "text": [
            "['joe', 'mary', 'ali']\n",
            "joe\n",
            "mary\n",
            "ali\n",
            "['forty-two', 100, [42.0, 'forty-two']]\n",
            "forty-two\n",
            "100\n",
            "[42.0, 'forty-two']\n"
          ],
          "name": "stdout"
        }
      ]
    },
    {
      "cell_type": "markdown",
      "metadata": {
        "id": "s4BvmBX2OO0I"
      },
      "source": [
        "**Accessing items, keys and values in a dictionary**:\n",
        "\n",
        "* `<dictionary>.items()` is an iterable object. When used with `for`, it iterates through the list of all *items* in `dictionary`, returning one item at a time. Each item is a tuple  `(key, value)`.\n",
        "* `<dictionary>.keys()` is an iterable object. When used with `for`, it iterates through the *keys* of all items in `dictionary`, returning one key at a time. \n",
        "* `<dictionary>.values()` is an iterable object. When used with `for`, it iterates through the *values* of all items in `dictionary`, returning one value at a time. "
      ]
    },
    {
      "cell_type": "code",
      "metadata": {
        "id": "UX2qEy7vOO0I",
        "colab": {
          "base_uri": "https://localhost:8080/"
        },
        "outputId": "736cc9b2-c6ac-4a51-a91f-8f17f10fac3f"
      },
      "source": [
        "print('All items in studentIds: ')\n",
        "for item in studentIds.items(): \n",
        "    print (item[0], ':', item[1])   # item[0] is the key, item[1] is the value\n",
        "\n",
        "print('\\nThe keys of all items in studentIds: ')\n",
        "for key in studentIds.keys():\n",
        "    print (key)\n",
        "\n",
        "print('\\nThe values of all items in studentIds: ')\n",
        "for value in studentIds.values():\n",
        "    print (value)"
      ],
      "execution_count": 95,
      "outputs": [
        {
          "output_type": "stream",
          "text": [
            "All items in studentIds: \n",
            "joe : forty-two\n",
            "mary : 100\n",
            "ali : [42.0, 'forty-two']\n",
            "\n",
            "The keys of all items in studentIds: \n",
            "joe\n",
            "mary\n",
            "ali\n",
            "\n",
            "The values of all items in studentIds: \n",
            "forty-two\n",
            "100\n",
            "[42.0, 'forty-two']\n"
          ],
          "name": "stdout"
        }
      ]
    },
    {
      "cell_type": "markdown",
      "metadata": {
        "id": "pMrmR1h3OO0J"
      },
      "source": [
        "**Removing an item from dictionary**:"
      ]
    },
    {
      "cell_type": "code",
      "metadata": {
        "id": "RpRjJiujOO0J",
        "colab": {
          "base_uri": "https://localhost:8080/"
        },
        "outputId": "0b481c51-7cfa-445a-c105-5472b13a5426"
      },
      "source": [
        "del studentIds['joe']\n",
        "studentIds"
      ],
      "execution_count": 96,
      "outputs": [
        {
          "output_type": "execute_result",
          "data": {
            "text/plain": [
              "{'ali': [42.0, 'forty-two'], 'mary': 100}"
            ]
          },
          "metadata": {
            "tags": []
          },
          "execution_count": 96
        }
      ]
    },
    {
      "cell_type": "markdown",
      "metadata": {
        "id": "L_eIU6i_OO0K"
      },
      "source": [
        "As with nested lists, you can also create dictionaries of dictionaries."
      ]
    },
    {
      "cell_type": "markdown",
      "metadata": {
        "id": "UCohV_YbOO0Q"
      },
      "source": [
        "---\n",
        "# Section 4: Advanced constructs\n",
        "Python allows many advanced constructs. In this section we discuss\n",
        "- List comprehension\n",
        "- Function as variable"
      ]
    },
    {
      "cell_type": "markdown",
      "metadata": {
        "id": "un7gh-yaRAMI"
      },
      "source": [
        "## List comprehension\n",
        "List comprehension provides a concise way to operate on a list to create a new list.\n",
        "\n",
        "Suppose you want to create a list of squares. You might do this as follows:"
      ]
    },
    {
      "cell_type": "code",
      "metadata": {
        "id": "_tJhBcwVOO0R",
        "colab": {
          "base_uri": "https://localhost:8080/",
          "height": 35
        },
        "outputId": "50f775a6-5fa5-4bb0-8722-92eeacf41772"
      },
      "source": [
        "nums = [1, 3, 5, 7, 11, 13, 17]\n",
        "squares = []\n",
        "for n in nums:\n",
        "    squares.append(n**2)\n",
        "print(squares)"
      ],
      "execution_count": null,
      "outputs": [
        {
          "output_type": "stream",
          "text": [
            "[1, 9, 25, 49, 121, 169, 289]\n"
          ],
          "name": "stdout"
        }
      ]
    },
    {
      "cell_type": "markdown",
      "metadata": {
        "id": "vIRXZ3ErOO0T"
      },
      "source": [
        "List Comprehension can help you represent the loop more concisely as follows:"
      ]
    },
    {
      "cell_type": "code",
      "metadata": {
        "id": "Xio4xy7uOO0U",
        "colab": {
          "base_uri": "https://localhost:8080/",
          "height": 35
        },
        "outputId": "df54cba9-484b-4c02-b1d5-882d21ddf379"
      },
      "source": [
        "squares2 = [x**2 for x in nums]\n",
        "print(squares2)"
      ],
      "execution_count": null,
      "outputs": [
        {
          "output_type": "stream",
          "text": [
            "[1, 9, 25, 49, 121, 169, 289]\n"
          ],
          "name": "stdout"
        }
      ]
    },
    {
      "cell_type": "markdown",
      "metadata": {
        "id": "JcarCKaEOO0V"
      },
      "source": [
        "You can also do filtering on the items that you want to operate on. Let's say we want to extract only odd numbers from  a list and then multiply all of them by 100:"
      ]
    },
    {
      "cell_type": "code",
      "metadata": {
        "id": "bozyzLi6OO0V",
        "colab": {
          "base_uri": "https://localhost:8080/",
          "height": 35
        },
        "outputId": "047c70ae-26e4-41a5-ed34-1b6154116f6a"
      },
      "source": [
        "nums = [1, 2, 3, 4, 5, 6, 7]\n",
        "result = [x*100 for x in nums if x % 2 == 1]\n",
        "print (result)"
      ],
      "execution_count": null,
      "outputs": [
        {
          "output_type": "stream",
          "text": [
            "[100, 300, 500, 700]\n"
          ],
          "name": "stdout"
        }
      ]
    },
    {
      "cell_type": "markdown",
      "metadata": {
        "id": "6u0Mo1_WU9Sj"
      },
      "source": [
        "Another convenient use of list comprehension is to generate a list of pairwise tuples of the original list."
      ]
    },
    {
      "cell_type": "markdown",
      "metadata": {
        "id": "aQi6YlbUbbzp"
      },
      "source": [
        ""
      ]
    },
    {
      "cell_type": "code",
      "metadata": {
        "id": "PuwMBUEUVGrH",
        "colab": {
          "base_uri": "https://localhost:8080/",
          "height": 917
        },
        "outputId": "bafad249-3023-43c2-da51-d82c356990ce"
      },
      "source": [
        "pairs = [(x, y) for x in nums for y in nums]\n",
        "pairs"
      ],
      "execution_count": null,
      "outputs": [
        {
          "output_type": "execute_result",
          "data": {
            "text/plain": [
              "[(1, 1),\n",
              " (1, 2),\n",
              " (1, 3),\n",
              " (1, 4),\n",
              " (1, 5),\n",
              " (1, 6),\n",
              " (1, 7),\n",
              " (2, 1),\n",
              " (2, 2),\n",
              " (2, 3),\n",
              " (2, 4),\n",
              " (2, 5),\n",
              " (2, 6),\n",
              " (2, 7),\n",
              " (3, 1),\n",
              " (3, 2),\n",
              " (3, 3),\n",
              " (3, 4),\n",
              " (3, 5),\n",
              " (3, 6),\n",
              " (3, 7),\n",
              " (4, 1),\n",
              " (4, 2),\n",
              " (4, 3),\n",
              " (4, 4),\n",
              " (4, 5),\n",
              " (4, 6),\n",
              " (4, 7),\n",
              " (5, 1),\n",
              " (5, 2),\n",
              " (5, 3),\n",
              " (5, 4),\n",
              " (5, 5),\n",
              " (5, 6),\n",
              " (5, 7),\n",
              " (6, 1),\n",
              " (6, 2),\n",
              " (6, 3),\n",
              " (6, 4),\n",
              " (6, 5),\n",
              " (6, 6),\n",
              " (6, 7),\n",
              " (7, 1),\n",
              " (7, 2),\n",
              " (7, 3),\n",
              " (7, 4),\n",
              " (7, 5),\n",
              " (7, 6),\n",
              " (7, 7)]"
            ]
          },
          "metadata": {
            "tags": []
          },
          "execution_count": 101
        }
      ]
    },
    {
      "cell_type": "markdown",
      "metadata": {
        "id": "P0dvL-y6Ipf1"
      },
      "source": [
        "Together with functions such as `zip` and `enumerate`, list comprehension allows us to accomplish in a single line some complex operations.\n",
        "\n",
        "The use of `zip` has been demonstrated in the construction of dictionary, here, we show how `enumerate` allows us to easily obtain the indices of the elements in a list which fulfills a given condition."
      ]
    },
    {
      "cell_type": "code",
      "metadata": {
        "id": "sns-4utNIpf4",
        "colab": {
          "base_uri": "https://localhost:8080/",
          "height": 35
        },
        "outputId": "6e30c496-f9b7-4929-ad7f-5309e55af31b"
      },
      "source": [
        "nums = [1, 2, 3, 4, 5, 6, 7]\n",
        "where_odd = [i for (i, y) in enumerate(nums) if y % 2 == 1]\n",
        "print(where_odd)"
      ],
      "execution_count": null,
      "outputs": [
        {
          "output_type": "stream",
          "text": [
            "[0, 2, 4, 6]\n"
          ],
          "name": "stdout"
        }
      ]
    },
    {
      "cell_type": "markdown",
      "metadata": {
        "id": "QBmRIkrcMMy1"
      },
      "source": [
        "## Function as variable\n",
        "Functions can be assigned to variables as well as passed as parameters to other functions in Python (similar to function pointers in C/C++).\n",
        "\n",
        "For instance, Python has an in-built sort function called `sorted` which has the capability to sort a list of **objects** (as opposed to primitive values). The function `sorted` accepts another function as one of its input parameters -- the input function informs `sorted` on how to compute the values to use for sorting.\n",
        "\n",
        "In this example, we use `sorted` to sort a list of strings by their last two characters.\n",
        "\n"
      ]
    },
    {
      "cell_type": "code",
      "metadata": {
        "id": "zJ8Axm-JXxiA",
        "colab": {
          "base_uri": "https://localhost:8080/",
          "height": 35
        },
        "outputId": "a9074652-f69f-47c3-8657-dc7e89269dbb"
      },
      "source": [
        "def last2chars(str):\n",
        "    return str[-2:]\n",
        "\n",
        "strings = [\"xfile05\", \"yfile02\", \"zfile01\", \"wfile06\", \"vfile03\"]\n",
        "\n",
        "sorted(strings, key=last2chars)"
      ],
      "execution_count": null,
      "outputs": [
        {
          "output_type": "execute_result",
          "data": {
            "text/plain": [
              "['zfile01', 'yfile02', 'vfile03', 'xfile05', 'wfile06']"
            ]
          },
          "metadata": {
            "tags": []
          },
          "execution_count": 99
        }
      ]
    },
    {
      "cell_type": "markdown",
      "metadata": {
        "id": "vFGBZZRrZ1v5"
      },
      "source": [
        "Python allows the definition of unnamed functions through the `lambda` keyword. Using the `lambda`, the above codes can be rewritten as:"
      ]
    },
    {
      "cell_type": "code",
      "metadata": {
        "id": "vi3Xym3JZ1Qu",
        "colab": {
          "base_uri": "https://localhost:8080/",
          "height": 35
        },
        "outputId": "84b53482-fc6c-4740-caa8-baac2927da6e"
      },
      "source": [
        "sorted(strings, key=lambda x: x[-2:])"
      ],
      "execution_count": null,
      "outputs": [
        {
          "output_type": "execute_result",
          "data": {
            "text/plain": [
              "['zfile01', 'yfile02', 'vfile03', 'xfile05', 'wfile06']"
            ]
          },
          "metadata": {
            "tags": []
          },
          "execution_count": 100
        }
      ]
    },
    {
      "cell_type": "markdown",
      "metadata": {
        "id": "YFmEsdr5aY16"
      },
      "source": [
        "Together with the `map` and `filter` function, the use of the `lambda` keyword allows us to write concise codes that operate on lists to create new lists. \n",
        "This provides an alternative to list comprehension.\n",
        "\n",
        "For instance, we can create a list which consists of the squared values of another list as follows."
      ]
    },
    {
      "cell_type": "code",
      "metadata": {
        "id": "C4WDrPiAMNE0",
        "colab": {
          "base_uri": "https://localhost:8080/",
          "height": 35
        },
        "outputId": "6f90dfcc-8ea8-451d-b164-ced7680df97f"
      },
      "source": [
        "nums = [1, 3, 5, 7, 11, 13, 17]\n",
        "# The following does the same thing as \"squares2 = [x**2 for x in nums]\"\n",
        "squares2 = list(map(lambda x: x**2, nums))\n",
        "squares2"
      ],
      "execution_count": null,
      "outputs": [
        {
          "output_type": "execute_result",
          "data": {
            "text/plain": [
              "[1, 9, 25, 49, 121, 169, 289]"
            ]
          },
          "metadata": {
            "tags": []
          },
          "execution_count": 101
        }
      ]
    },
    {
      "cell_type": "markdown",
      "metadata": {
        "id": "y_W1BMH2b83J"
      },
      "source": [
        "We can similarly filter out values from another list as follows."
      ]
    },
    {
      "cell_type": "code",
      "metadata": {
        "id": "YVgrkJjtb9SB",
        "colab": {
          "base_uri": "https://localhost:8080/",
          "height": 35
        },
        "outputId": "c0126630-adc0-4355-9a83-ff2ac55a882c"
      },
      "source": [
        "nums = [1, 2, 3, 4, 5, 6, 7]\n",
        "# The following does the same thing as \"result = [x*100 for x in nums if x % 2 == 1]\"\n",
        "result = list(map(lambda x: x*100, filter(lambda x: x % 2 == 1, nums)))\n",
        "result"
      ],
      "execution_count": null,
      "outputs": [
        {
          "output_type": "execute_result",
          "data": {
            "text/plain": [
              "[100, 300, 500, 700]"
            ]
          },
          "metadata": {
            "tags": []
          },
          "execution_count": 102
        }
      ]
    },
    {
      "cell_type": "markdown",
      "metadata": {
        "id": "Dx58g5pQdcyr"
      },
      "source": [
        "However, in such cases, the list comprehension way appears to be clearer, and is the preferred method to the creator of Python, Guido Rossum."
      ]
    },
    {
      "cell_type": "markdown",
      "metadata": {
        "id": "8TEUXb7Muumn"
      },
      "source": [
        "---\n",
        "# Section 5: NumPy\n",
        "\n",
        "The library module called NumPy is an indispensible part of Python. The module provides an `numpy.ndarray` data structure which is way more powerful than Python lists. It provides simpe calls for\n",
        "\n",
        "*   data initialization,\n",
        "*   saving and loading (on disk),\n",
        "*   search, and \n",
        "*   filtering\n",
        "\n",
        "among many other features."
      ]
    },
    {
      "cell_type": "markdown",
      "metadata": {
        "id": "2ZNj59UWliw1"
      },
      "source": [
        "## Initialization\n",
        "\n",
        "The following shows how NumPy allows the initializations of various kinds of arrays.\n",
        "\n",
        "\n"
      ]
    },
    {
      "cell_type": "code",
      "metadata": {
        "id": "cXGdeKxgl5df",
        "colab": {
          "base_uri": "https://localhost:8080/",
          "height": 366
        },
        "outputId": "36ad9b9c-106e-4a3c-8622-1242c0cc5b6c"
      },
      "source": [
        "import numpy as np\n",
        "\n",
        "alist = np.array([1, 2, 3])\n",
        "print(\"Array:\", alist)\n",
        "\n",
        "amatrix = np.array([[1, 2, 3], [4, 5, 6]])\n",
        "print(\"\\nMatrix:\")\n",
        "print(amatrix)\n",
        "\n",
        "bmatrix = np.zeros((3, 3), dtype=np.float64)\n",
        "print(\"\\nMatrix initized to zero:\")\n",
        "print(bmatrix)\n",
        "\n",
        "np.fill_diagonal(bmatrix, 1)\n",
        "print(\"\\nMatrix with diagonal filled with ones:\")\n",
        "print(bmatrix)\n",
        "\n",
        "rand_matrix = np.random.random((2, 2))\n",
        "print(\"\\nMatrix with randomized values:\")\n",
        "print(rand_matrix)"
      ],
      "execution_count": null,
      "outputs": [
        {
          "output_type": "stream",
          "text": [
            "Array: [1 2 3]\n",
            "\n",
            "Matrix:\n",
            "[[1 2 3]\n",
            " [4 5 6]]\n",
            "\n",
            "Matrix initized to zero:\n",
            "[[0. 0. 0.]\n",
            " [0. 0. 0.]\n",
            " [0. 0. 0.]]\n",
            "\n",
            "Matrix with diagonal filled with ones:\n",
            "[[1. 0. 0.]\n",
            " [0. 1. 0.]\n",
            " [0. 0. 1.]]\n",
            "\n",
            "Matrix with randomized values:\n",
            "[[0.8503512  0.24712816]\n",
            " [0.39322238 0.45301915]]\n"
          ],
          "name": "stdout"
        }
      ]
    },
    {
      "cell_type": "markdown",
      "metadata": {
        "id": "ZbQfMoPjpRmG"
      },
      "source": [
        "## Save and load data\n",
        "\n",
        "The following saves and loads a NumPy data (to and from file). These files have the file extension \"npy\"."
      ]
    },
    {
      "cell_type": "code",
      "metadata": {
        "id": "73xwQnqEpR7c",
        "colab": {
          "base_uri": "https://localhost:8080/",
          "height": 219
        },
        "outputId": "8dd30f83-77e1-4a52-d8b2-5a94bda200d5"
      },
      "source": [
        "# Creates and saves a matrix of randomized values\n",
        "rand_matrix = np.random.random((2, 2))\n",
        "print(\"Matrix rand_matrix with randomized values:\")\n",
        "print(rand_matrix)\n",
        "np.save(\"my_rand_matrix\", rand_matrix)\n",
        "\n",
        "# Change the values of rand_matrix to say, ones\n",
        "rand_matrix = np.ones((2, 2))\n",
        "print(\"\\nrand_martix changed to:\")\n",
        "print(rand_matrix)\n",
        "\n",
        "# Restire the values of rand_matrix\n",
        "rand_matrix = np.load(\"my_rand_matrix.npy\")\n",
        "print(\"\\nrand_martix restored:\")\n",
        "print(rand_matrix)"
      ],
      "execution_count": null,
      "outputs": [
        {
          "output_type": "stream",
          "text": [
            "Matrix rand_matrix with randomized values:\n",
            "[[0.93317617 0.83877718]\n",
            " [0.50895694 0.69638057]]\n",
            "\n",
            "rand_martix changed to:\n",
            "[[1. 1.]\n",
            " [1. 1.]]\n",
            "\n",
            "rand_martix restored:\n",
            "[[0.93317617 0.83877718]\n",
            " [0.50895694 0.69638057]]\n"
          ],
          "name": "stdout"
        }
      ]
    },
    {
      "cell_type": "markdown",
      "metadata": {
        "id": "R8WxQkxxqgnm"
      },
      "source": [
        "## Searching and Filtering\n",
        "\n",
        "You can search for values that fulfill a given condition in a NumPy array."
      ]
    },
    {
      "cell_type": "code",
      "metadata": {
        "id": "vpi3nAsVqg0e",
        "colab": {
          "base_uri": "https://localhost:8080/",
          "height": 35
        },
        "outputId": "8c5ca31b-4093-4c94-c4ae-f930a9f24323"
      },
      "source": [
        "marray = np.array([0.37, 0.82, 0.16, 0.78])\n",
        "np.where(marray > 0.5)[0]"
      ],
      "execution_count": null,
      "outputs": [
        {
          "output_type": "execute_result",
          "data": {
            "text/plain": [
              "array([1, 3])"
            ]
          },
          "metadata": {
            "tags": []
          },
          "execution_count": 106
        }
      ]
    },
    {
      "cell_type": "markdown",
      "metadata": {
        "id": "mfkatOSevst8"
      },
      "source": [
        "For matrices, the position of every element requires 2 integers to specify (namely, row and column). Hence, the returned value of <tt>np.where</tt> is given in two arrays of equal length: one array gives the rows and the other gives the columns. "
      ]
    },
    {
      "cell_type": "markdown",
      "metadata": {
        "id": "h64nGvVlrUxe"
      },
      "source": [
        "Finally, you an filter out array elements based on the elements' indices. The following example first creates an array of even numbers from 100 to 2, in decreasing order. Then, it finds the indices of the elements which are divisible by 7 and finally, creates a new array with only those elements."
      ]
    },
    {
      "cell_type": "code",
      "metadata": {
        "id": "N2v5RXSYrU69",
        "colab": {
          "base_uri": "https://localhost:8080/",
          "height": 109
        },
        "outputId": "19338e3d-1cc3-465f-a145-5f84afef392f"
      },
      "source": [
        "array_of_even_numbers = np.array(range(100, 0, -2))\n",
        "print(\"An array of even numbers\", array_of_even_numbers)\n",
        "indices_of_elements_divisible_by_7 = np.where(array_of_even_numbers % 7 == 0)\n",
        "print(\"The locations of the elements in the array that are divisible by 7\", indices_of_elements_divisible_by_7)\n",
        "new_array = array_of_even_numbers[indices_of_elements_divisible_by_7]\n",
        "print(\"These elements are\", new_array)"
      ],
      "execution_count": null,
      "outputs": [
        {
          "output_type": "stream",
          "text": [
            "An array of even numbers [100  98  96  94  92  90  88  86  84  82  80  78  76  74  72  70  68  66\n",
            "  64  62  60  58  56  54  52  50  48  46  44  42  40  38  36  34  32  30\n",
            "  28  26  24  22  20  18  16  14  12  10   8   6   4   2]\n",
            "The locations of the elements in the array that are divisible by 7 (array([ 1,  8, 15, 22, 29, 36, 43]),)\n",
            "These elements are [98 84 70 56 42 28 14]\n"
          ],
          "name": "stdout"
        }
      ]
    },
    {
      "cell_type": "markdown",
      "metadata": {
        "id": "lrgY1NZlJBas"
      },
      "source": [
        "# Closing remarks\n",
        "\n",
        "This tutorial has barely scratched the surface of the features in Python. Python also allows the creation of classes like in C++ or Java, which has not been covered in this tutorial. You are strongly encouraged to go through the following, slightly more complete, tutorials.\n",
        "\n",
        "- https://docs.python.org/3/tutorial/index.html\n",
        "- http://cs231n.github.io/python-numpy-tutorial/"
      ]
    }
  ]
}